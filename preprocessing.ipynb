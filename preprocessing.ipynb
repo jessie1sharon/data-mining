{
 "cells": [
  {
   "cell_type": "markdown",
   "metadata": {},
   "source": [
    "# Data Mining - project part 1\n"
   ]
  },
  {
   "cell_type": "code",
   "execution_count": 1,
   "metadata": {},
   "outputs": [],
   "source": [
    "import math\n",
    "import numpy as np\n",
    "import pandas as pd\n",
    "import seaborn as sns\n",
    "import matplotlib.pyplot as plt\n",
    "import scipy\n",
    "from sklearn.preprocessing import MinMaxScaler\n",
    "from sklearn.preprocessing import StandardScaler\n",
    "from sklearn.decomposition import PCA"
   ]
  },
  {
   "cell_type": "code",
   "execution_count": 2,
   "metadata": {},
   "outputs": [],
   "source": [
    "sns.set(color_codes=True) # settings for seaborn plotting style\n",
    "sns.set(rc={'figure.figsize':(10,10)}) # settings for seaborn plot sizes"
   ]
  },
  {
   "cell_type": "code",
   "execution_count": 3,
   "metadata": {},
   "outputs": [],
   "source": [
    "df = pd.read_csv(r\"./marketing_campaigns_train.csv\", index_col=0)"
   ]
  },
  {
   "cell_type": "markdown",
   "metadata": {},
   "source": [
    "## show data information :"
   ]
  },
  {
   "cell_type": "code",
   "execution_count": 4,
   "metadata": {},
   "outputs": [
    {
     "name": "stdout",
     "output_type": "stream",
     "text": [
      "Shape:  (30517, 20)\n"
     ]
    },
    {
     "data": {
      "text/html": [
       "<div>\n",
       "<style scoped>\n",
       "    .dataframe tbody tr th:only-of-type {\n",
       "        vertical-align: middle;\n",
       "    }\n",
       "\n",
       "    .dataframe tbody tr th {\n",
       "        vertical-align: top;\n",
       "    }\n",
       "\n",
       "    .dataframe thead th {\n",
       "        text-align: right;\n",
       "    }\n",
       "</style>\n",
       "<table border=\"1\" class=\"dataframe\">\n",
       "  <thead>\n",
       "    <tr style=\"text-align: right;\">\n",
       "      <th></th>\n",
       "      <th>status</th>\n",
       "      <th>age</th>\n",
       "      <th>n_child</th>\n",
       "      <th>education</th>\n",
       "      <th>profession</th>\n",
       "      <th>device</th>\n",
       "      <th>account_balance</th>\n",
       "      <th>loan</th>\n",
       "      <th>mortgage</th>\n",
       "      <th>credit</th>\n",
       "      <th>positive</th>\n",
       "      <th>campaign_type</th>\n",
       "      <th>consent</th>\n",
       "      <th>n_contact</th>\n",
       "      <th>l_date</th>\n",
       "      <th>l_call_duration</th>\n",
       "      <th>p_outcome</th>\n",
       "      <th>n_p_contact</th>\n",
       "      <th>p_days</th>\n",
       "      <th>subscribed</th>\n",
       "    </tr>\n",
       "    <tr>\n",
       "      <th>id</th>\n",
       "      <th></th>\n",
       "      <th></th>\n",
       "      <th></th>\n",
       "      <th></th>\n",
       "      <th></th>\n",
       "      <th></th>\n",
       "      <th></th>\n",
       "      <th></th>\n",
       "      <th></th>\n",
       "      <th></th>\n",
       "      <th></th>\n",
       "      <th></th>\n",
       "      <th></th>\n",
       "      <th></th>\n",
       "      <th></th>\n",
       "      <th></th>\n",
       "      <th></th>\n",
       "      <th></th>\n",
       "      <th></th>\n",
       "      <th></th>\n",
       "    </tr>\n",
       "  </thead>\n",
       "  <tbody>\n",
       "    <tr>\n",
       "      <th>512491</th>\n",
       "      <td>married</td>\n",
       "      <td>32</td>\n",
       "      <td>unknown</td>\n",
       "      <td>doctoral</td>\n",
       "      <td>student</td>\n",
       "      <td>cellular</td>\n",
       "      <td>300</td>\n",
       "      <td>False</td>\n",
       "      <td>True</td>\n",
       "      <td>False</td>\n",
       "      <td>True</td>\n",
       "      <td>phone call</td>\n",
       "      <td>False</td>\n",
       "      <td>2</td>\n",
       "      <td>04-Feb</td>\n",
       "      <td>175</td>\n",
       "      <td>failure</td>\n",
       "      <td>1</td>\n",
       "      <td>272</td>\n",
       "      <td>False</td>\n",
       "    </tr>\n",
       "    <tr>\n",
       "      <th>495633</th>\n",
       "      <td>married</td>\n",
       "      <td>45</td>\n",
       "      <td>1</td>\n",
       "      <td>master</td>\n",
       "      <td>scientist</td>\n",
       "      <td>cellular</td>\n",
       "      <td>1339</td>\n",
       "      <td>False</td>\n",
       "      <td>True</td>\n",
       "      <td>False</td>\n",
       "      <td>True</td>\n",
       "      <td>phone call</td>\n",
       "      <td>False</td>\n",
       "      <td>1</td>\n",
       "      <td>08-Jul</td>\n",
       "      <td>322</td>\n",
       "      <td>unknown</td>\n",
       "      <td>0</td>\n",
       "      <td>-1</td>\n",
       "      <td>False</td>\n",
       "    </tr>\n",
       "    <tr>\n",
       "      <th>507946</th>\n",
       "      <td>married</td>\n",
       "      <td>54</td>\n",
       "      <td>2</td>\n",
       "      <td>master</td>\n",
       "      <td>technician</td>\n",
       "      <td>telephone</td>\n",
       "      <td>2832</td>\n",
       "      <td>False</td>\n",
       "      <td>True</td>\n",
       "      <td>False</td>\n",
       "      <td>True</td>\n",
       "      <td>phone call</td>\n",
       "      <td>False</td>\n",
       "      <td>1</td>\n",
       "      <td>19-Nov</td>\n",
       "      <td>67</td>\n",
       "      <td>unknown</td>\n",
       "      <td>0</td>\n",
       "      <td>-1</td>\n",
       "      <td>False</td>\n",
       "    </tr>\n",
       "    <tr>\n",
       "      <th>491165</th>\n",
       "      <td>married</td>\n",
       "      <td>30</td>\n",
       "      <td>unknown</td>\n",
       "      <td>master</td>\n",
       "      <td>engineer</td>\n",
       "      <td>unknown</td>\n",
       "      <td>530</td>\n",
       "      <td>True</td>\n",
       "      <td>True</td>\n",
       "      <td>False</td>\n",
       "      <td>True</td>\n",
       "      <td>phone call</td>\n",
       "      <td>False</td>\n",
       "      <td>1</td>\n",
       "      <td>04-Jun</td>\n",
       "      <td>45</td>\n",
       "      <td>unknown</td>\n",
       "      <td>0</td>\n",
       "      <td>-1</td>\n",
       "      <td>False</td>\n",
       "    </tr>\n",
       "    <tr>\n",
       "      <th>494627</th>\n",
       "      <td>married</td>\n",
       "      <td>40</td>\n",
       "      <td>unknown</td>\n",
       "      <td>doctoral</td>\n",
       "      <td>manager</td>\n",
       "      <td>unknown</td>\n",
       "      <td>-922</td>\n",
       "      <td>True</td>\n",
       "      <td>True</td>\n",
       "      <td>True</td>\n",
       "      <td>False</td>\n",
       "      <td>phone call</td>\n",
       "      <td>False</td>\n",
       "      <td>2</td>\n",
       "      <td>23-Jun</td>\n",
       "      <td>39</td>\n",
       "      <td>unknown</td>\n",
       "      <td>0</td>\n",
       "      <td>-1</td>\n",
       "      <td>False</td>\n",
       "    </tr>\n",
       "  </tbody>\n",
       "</table>\n",
       "</div>"
      ],
      "text/plain": [
       "         status  age  n_child education  profession     device  \\\n",
       "id                                                               \n",
       "512491  married   32  unknown  doctoral     student   cellular   \n",
       "495633  married   45        1    master   scientist   cellular   \n",
       "507946  married   54        2    master  technician  telephone   \n",
       "491165  married   30  unknown    master    engineer    unknown   \n",
       "494627  married   40  unknown  doctoral     manager    unknown   \n",
       "\n",
       "        account_balance   loan  mortgage  credit  positive campaign_type  \\\n",
       "id                                                                         \n",
       "512491              300  False      True   False      True    phone call   \n",
       "495633             1339  False      True   False      True    phone call   \n",
       "507946             2832  False      True   False      True    phone call   \n",
       "491165              530   True      True   False      True    phone call   \n",
       "494627             -922   True      True    True     False    phone call   \n",
       "\n",
       "        consent  n_contact  l_date  l_call_duration p_outcome  n_p_contact  \\\n",
       "id                                                                           \n",
       "512491    False          2  04-Feb              175   failure            1   \n",
       "495633    False          1  08-Jul              322   unknown            0   \n",
       "507946    False          1  19-Nov               67   unknown            0   \n",
       "491165    False          1  04-Jun               45   unknown            0   \n",
       "494627    False          2  23-Jun               39   unknown            0   \n",
       "\n",
       "        p_days  subscribed  \n",
       "id                          \n",
       "512491     272       False  \n",
       "495633      -1       False  \n",
       "507946      -1       False  \n",
       "491165      -1       False  \n",
       "494627      -1       False  "
      ]
     },
     "execution_count": 4,
     "metadata": {},
     "output_type": "execute_result"
    }
   ],
   "source": [
    "print(\"Shape: \", df.shape)\n",
    "df.head()"
   ]
  },
  {
   "cell_type": "markdown",
   "metadata": {},
   "source": [
    "what types the columns are : "
   ]
  },
  {
   "cell_type": "code",
   "execution_count": 5,
   "metadata": {},
   "outputs": [
    {
     "name": "stdout",
     "output_type": "stream",
     "text": [
      "<class 'pandas.core.frame.DataFrame'>\n",
      "Int64Index: 30517 entries, 512491 to 516748\n",
      "Data columns (total 20 columns):\n",
      " #   Column           Non-Null Count  Dtype \n",
      "---  ------           --------------  ----- \n",
      " 0   status           30517 non-null  object\n",
      " 1   age              30517 non-null  int64 \n",
      " 2   n_child          30517 non-null  object\n",
      " 3   education        30517 non-null  object\n",
      " 4   profession       30517 non-null  object\n",
      " 5   device           30517 non-null  object\n",
      " 6   account_balance  30517 non-null  int64 \n",
      " 7   loan             30517 non-null  bool  \n",
      " 8   mortgage         30517 non-null  bool  \n",
      " 9   credit           30517 non-null  bool  \n",
      " 10  positive         30517 non-null  bool  \n",
      " 11  campaign_type    30517 non-null  object\n",
      " 12  consent          30517 non-null  bool  \n",
      " 13  n_contact        30517 non-null  int64 \n",
      " 14  l_date           30517 non-null  object\n",
      " 15  l_call_duration  30517 non-null  int64 \n",
      " 16  p_outcome        30517 non-null  object\n",
      " 17  n_p_contact      30517 non-null  int64 \n",
      " 18  p_days           30517 non-null  int64 \n",
      " 19  subscribed       30517 non-null  bool  \n",
      "dtypes: bool(6), int64(6), object(8)\n",
      "memory usage: 3.7+ MB\n"
     ]
    }
   ],
   "source": [
    "df.info()"
   ]
  },
  {
   "cell_type": "code",
   "execution_count": 6,
   "metadata": {},
   "outputs": [],
   "source": [
    "target = pd.DataFrame(df['subscribed']) \n",
    "data = df.drop('subscribed', axis=1)"
   ]
  },
  {
   "cell_type": "markdown",
   "metadata": {},
   "source": [
    "devide the columns by data types "
   ]
  },
  {
   "cell_type": "code",
   "execution_count": 7,
   "metadata": {},
   "outputs": [],
   "source": [
    "num_col = data.describe().columns # to get the numeric column\n",
    "nom_col = data.describe(include=object).columns # to get the nominal column\n",
    "boo_col = data.describe(include=bool).columns # to get the boolean column"
   ]
  },
  {
   "cell_type": "markdown",
   "metadata": {},
   "source": [
    "the data by types :"
   ]
  },
  {
   "cell_type": "code",
   "execution_count": 8,
   "metadata": {},
   "outputs": [],
   "source": [
    "num_data = data[num_col]\n",
    "nom_data = data[nom_col]\n",
    "boo_data = data[boo_col]"
   ]
  },
  {
   "cell_type": "code",
   "execution_count": 9,
   "metadata": {},
   "outputs": [
    {
     "data": {
      "text/html": [
       "<div>\n",
       "<style scoped>\n",
       "    .dataframe tbody tr th:only-of-type {\n",
       "        vertical-align: middle;\n",
       "    }\n",
       "\n",
       "    .dataframe tbody tr th {\n",
       "        vertical-align: top;\n",
       "    }\n",
       "\n",
       "    .dataframe thead th {\n",
       "        text-align: right;\n",
       "    }\n",
       "</style>\n",
       "<table border=\"1\" class=\"dataframe\">\n",
       "  <thead>\n",
       "    <tr style=\"text-align: right;\">\n",
       "      <th></th>\n",
       "      <th>age</th>\n",
       "      <th>account_balance</th>\n",
       "      <th>n_contact</th>\n",
       "      <th>l_call_duration</th>\n",
       "      <th>n_p_contact</th>\n",
       "      <th>p_days</th>\n",
       "    </tr>\n",
       "  </thead>\n",
       "  <tbody>\n",
       "    <tr>\n",
       "      <th>count</th>\n",
       "      <td>30517.000000</td>\n",
       "      <td>30517.000000</td>\n",
       "      <td>30517.000000</td>\n",
       "      <td>30517.000000</td>\n",
       "      <td>30517.00000</td>\n",
       "      <td>30517.000000</td>\n",
       "    </tr>\n",
       "    <tr>\n",
       "      <th>mean</th>\n",
       "      <td>40.873546</td>\n",
       "      <td>1228.707966</td>\n",
       "      <td>2.769604</td>\n",
       "      <td>233.294262</td>\n",
       "      <td>0.58397</td>\n",
       "      <td>40.320706</td>\n",
       "    </tr>\n",
       "    <tr>\n",
       "      <th>std</th>\n",
       "      <td>10.591058</td>\n",
       "      <td>2738.410757</td>\n",
       "      <td>3.085730</td>\n",
       "      <td>232.690931</td>\n",
       "      <td>2.48213</td>\n",
       "      <td>100.489272</td>\n",
       "    </tr>\n",
       "    <tr>\n",
       "      <th>min</th>\n",
       "      <td>18.000000</td>\n",
       "      <td>-7207.000000</td>\n",
       "      <td>1.000000</td>\n",
       "      <td>2.000000</td>\n",
       "      <td>0.00000</td>\n",
       "      <td>-1.000000</td>\n",
       "    </tr>\n",
       "    <tr>\n",
       "      <th>25%</th>\n",
       "      <td>33.000000</td>\n",
       "      <td>74.000000</td>\n",
       "      <td>1.000000</td>\n",
       "      <td>95.000000</td>\n",
       "      <td>0.00000</td>\n",
       "      <td>-1.000000</td>\n",
       "    </tr>\n",
       "    <tr>\n",
       "      <th>50%</th>\n",
       "      <td>39.000000</td>\n",
       "      <td>411.000000</td>\n",
       "      <td>2.000000</td>\n",
       "      <td>164.000000</td>\n",
       "      <td>0.00000</td>\n",
       "      <td>-1.000000</td>\n",
       "    </tr>\n",
       "    <tr>\n",
       "      <th>75%</th>\n",
       "      <td>48.000000</td>\n",
       "      <td>1278.000000</td>\n",
       "      <td>3.000000</td>\n",
       "      <td>286.000000</td>\n",
       "      <td>0.00000</td>\n",
       "      <td>-1.000000</td>\n",
       "    </tr>\n",
       "    <tr>\n",
       "      <th>max</th>\n",
       "      <td>95.000000</td>\n",
       "      <td>91924.000000</td>\n",
       "      <td>63.000000</td>\n",
       "      <td>4428.000000</td>\n",
       "      <td>275.00000</td>\n",
       "      <td>871.000000</td>\n",
       "    </tr>\n",
       "  </tbody>\n",
       "</table>\n",
       "</div>"
      ],
      "text/plain": [
       "                age  account_balance     n_contact  l_call_duration  \\\n",
       "count  30517.000000     30517.000000  30517.000000     30517.000000   \n",
       "mean      40.873546      1228.707966      2.769604       233.294262   \n",
       "std       10.591058      2738.410757      3.085730       232.690931   \n",
       "min       18.000000     -7207.000000      1.000000         2.000000   \n",
       "25%       33.000000        74.000000      1.000000        95.000000   \n",
       "50%       39.000000       411.000000      2.000000       164.000000   \n",
       "75%       48.000000      1278.000000      3.000000       286.000000   \n",
       "max       95.000000     91924.000000     63.000000      4428.000000   \n",
       "\n",
       "       n_p_contact        p_days  \n",
       "count  30517.00000  30517.000000  \n",
       "mean       0.58397     40.320706  \n",
       "std        2.48213    100.489272  \n",
       "min        0.00000     -1.000000  \n",
       "25%        0.00000     -1.000000  \n",
       "50%        0.00000     -1.000000  \n",
       "75%        0.00000     -1.000000  \n",
       "max      275.00000    871.000000  "
      ]
     },
     "execution_count": 9,
     "metadata": {},
     "output_type": "execute_result"
    }
   ],
   "source": [
    "num_data.describe() "
   ]
  },
  {
   "cell_type": "code",
   "execution_count": 10,
   "metadata": {},
   "outputs": [
    {
     "data": {
      "text/plain": [
       "39.0"
      ]
     },
     "execution_count": 10,
     "metadata": {},
     "output_type": "execute_result"
    }
   ],
   "source": [
    "df[\"age\"].median()"
   ]
  },
  {
   "cell_type": "markdown",
   "metadata": {},
   "source": [
    "* For age category we see that the mean is : 40.32 and the median is 39.0 so there is 50% chance the person we contact is less than 39. We see also that 75% of the people we conntacted were less than 48."
   ]
  },
  {
   "cell_type": "markdown",
   "metadata": {},
   "source": [
    "* From l_call_duration - last contact duration we understand that most calls(75%) last less than 286 sec , less than 5 min."
   ]
  },
  {
   "cell_type": "markdown",
   "metadata": {},
   "source": [
    "* From n_contacts we unnderstand that most of the people we conntact 3 times or less "
   ]
  },
  {
   "cell_type": "code",
   "execution_count": 11,
   "metadata": {},
   "outputs": [
    {
     "data": {
      "text/html": [
       "<div>\n",
       "<style scoped>\n",
       "    .dataframe tbody tr th:only-of-type {\n",
       "        vertical-align: middle;\n",
       "    }\n",
       "\n",
       "    .dataframe tbody tr th {\n",
       "        vertical-align: top;\n",
       "    }\n",
       "\n",
       "    .dataframe thead th {\n",
       "        text-align: right;\n",
       "    }\n",
       "</style>\n",
       "<table border=\"1\" class=\"dataframe\">\n",
       "  <thead>\n",
       "    <tr style=\"text-align: right;\">\n",
       "      <th></th>\n",
       "      <th>status</th>\n",
       "      <th>n_child</th>\n",
       "      <th>education</th>\n",
       "      <th>profession</th>\n",
       "      <th>device</th>\n",
       "      <th>campaign_type</th>\n",
       "      <th>l_date</th>\n",
       "      <th>p_outcome</th>\n",
       "    </tr>\n",
       "  </thead>\n",
       "  <tbody>\n",
       "    <tr>\n",
       "      <th>count</th>\n",
       "      <td>30517</td>\n",
       "      <td>30517</td>\n",
       "      <td>30517</td>\n",
       "      <td>30517</td>\n",
       "      <td>30517</td>\n",
       "      <td>30517</td>\n",
       "      <td>30517</td>\n",
       "      <td>30517</td>\n",
       "    </tr>\n",
       "    <tr>\n",
       "      <th>unique</th>\n",
       "      <td>3</td>\n",
       "      <td>5</td>\n",
       "      <td>4</td>\n",
       "      <td>12</td>\n",
       "      <td>3</td>\n",
       "      <td>1</td>\n",
       "      <td>308</td>\n",
       "      <td>4</td>\n",
       "    </tr>\n",
       "    <tr>\n",
       "      <th>top</th>\n",
       "      <td>married</td>\n",
       "      <td>unknown</td>\n",
       "      <td>master</td>\n",
       "      <td>engineer</td>\n",
       "      <td>cellular</td>\n",
       "      <td>phone call</td>\n",
       "      <td>15-May</td>\n",
       "      <td>unknown</td>\n",
       "    </tr>\n",
       "    <tr>\n",
       "      <th>freq</th>\n",
       "      <td>18414</td>\n",
       "      <td>19820</td>\n",
       "      <td>15622</td>\n",
       "      <td>6538</td>\n",
       "      <td>19718</td>\n",
       "      <td>30517</td>\n",
       "      <td>782</td>\n",
       "      <td>24943</td>\n",
       "    </tr>\n",
       "    <tr>\n",
       "      <th>%freq</th>\n",
       "      <td>0.603</td>\n",
       "      <td>0.649</td>\n",
       "      <td>0.512</td>\n",
       "      <td>0.214</td>\n",
       "      <td>0.646</td>\n",
       "      <td>1</td>\n",
       "      <td>0.026</td>\n",
       "      <td>0.817</td>\n",
       "    </tr>\n",
       "  </tbody>\n",
       "</table>\n",
       "</div>"
      ],
      "text/plain": [
       "         status  n_child education profession    device campaign_type  l_date  \\\n",
       "count     30517    30517     30517      30517     30517         30517   30517   \n",
       "unique        3        5         4         12         3             1     308   \n",
       "top     married  unknown    master   engineer  cellular    phone call  15-May   \n",
       "freq      18414    19820     15622       6538     19718         30517     782   \n",
       "%freq     0.603    0.649     0.512      0.214     0.646             1   0.026   \n",
       "\n",
       "       p_outcome  \n",
       "count      30517  \n",
       "unique         4  \n",
       "top      unknown  \n",
       "freq       24943  \n",
       "%freq      0.817  "
      ]
     },
     "execution_count": 11,
     "metadata": {},
     "output_type": "execute_result"
    }
   ],
   "source": [
    "describe_df = nom_data.describe()\n",
    "describe_df.loc['%freq'] = describe_df.apply(lambda x: np.round(x.loc['freq']/30517, decimals=3))\n",
    "describe_df"
   ]
  },
  {
   "cell_type": "code",
   "execution_count": 12,
   "metadata": {},
   "outputs": [
    {
     "data": {
      "text/html": [
       "<div>\n",
       "<style scoped>\n",
       "    .dataframe tbody tr th:only-of-type {\n",
       "        vertical-align: middle;\n",
       "    }\n",
       "\n",
       "    .dataframe tbody tr th {\n",
       "        vertical-align: top;\n",
       "    }\n",
       "\n",
       "    .dataframe thead th {\n",
       "        text-align: right;\n",
       "    }\n",
       "</style>\n",
       "<table border=\"1\" class=\"dataframe\">\n",
       "  <thead>\n",
       "    <tr style=\"text-align: right;\">\n",
       "      <th></th>\n",
       "      <th>loan</th>\n",
       "      <th>mortgage</th>\n",
       "      <th>credit</th>\n",
       "      <th>positive</th>\n",
       "      <th>consent</th>\n",
       "    </tr>\n",
       "  </thead>\n",
       "  <tbody>\n",
       "    <tr>\n",
       "      <th>count</th>\n",
       "      <td>30517</td>\n",
       "      <td>30517</td>\n",
       "      <td>30517</td>\n",
       "      <td>30517</td>\n",
       "      <td>30517</td>\n",
       "    </tr>\n",
       "    <tr>\n",
       "      <th>unique</th>\n",
       "      <td>2</td>\n",
       "      <td>2</td>\n",
       "      <td>2</td>\n",
       "      <td>2</td>\n",
       "      <td>2</td>\n",
       "    </tr>\n",
       "    <tr>\n",
       "      <th>top</th>\n",
       "      <td>False</td>\n",
       "      <td>True</td>\n",
       "      <td>False</td>\n",
       "      <td>True</td>\n",
       "      <td>False</td>\n",
       "    </tr>\n",
       "    <tr>\n",
       "      <th>freq</th>\n",
       "      <td>25632</td>\n",
       "      <td>17055</td>\n",
       "      <td>29987</td>\n",
       "      <td>28059</td>\n",
       "      <td>26997</td>\n",
       "    </tr>\n",
       "    <tr>\n",
       "      <th>%freq</th>\n",
       "      <td>0.84</td>\n",
       "      <td>0.559</td>\n",
       "      <td>0.983</td>\n",
       "      <td>0.919</td>\n",
       "      <td>0.885</td>\n",
       "    </tr>\n",
       "  </tbody>\n",
       "</table>\n",
       "</div>"
      ],
      "text/plain": [
       "         loan mortgage credit positive consent\n",
       "count   30517    30517  30517    30517   30517\n",
       "unique      2        2      2        2       2\n",
       "top     False     True  False     True   False\n",
       "freq    25632    17055  29987    28059   26997\n",
       "%freq    0.84    0.559  0.983    0.919   0.885"
      ]
     },
     "execution_count": 12,
     "metadata": {},
     "output_type": "execute_result"
    }
   ],
   "source": [
    "bool_df = boo_data.describe()\n",
    "bool_df.loc['%freq'] = bool_df.apply(lambda x: np.round(x.loc['freq']/30517, decimals=3))\n",
    "bool_df"
   ]
  },
  {
   "cell_type": "markdown",
   "metadata": {},
   "source": [
    "* campaingn_type : all the values are the same so no data added in this column"
   ]
  },
  {
   "cell_type": "code",
   "execution_count": 13,
   "metadata": {},
   "outputs": [
    {
     "data": {
      "text/plain": [
       "<AxesSubplot:xlabel='subscribed', ylabel='age'>"
      ]
     },
     "execution_count": 13,
     "metadata": {},
     "output_type": "execute_result"
    },
    {
     "data": {
      "image/png": "[encoded data removed]",
      "text/plain": [
       "<Figure size 360x576 with 1 Axes>"
      ]
     },
     "metadata": {},
     "output_type": "display_data"
    }
   ],
   "source": [
    "sns.set(rc={'figure.figsize':(5,8)})\n",
    "sns.boxplot(y=\"age\", x=\"subscribed\", hue= \"mortgage\", data=df, palette=\"Set3\")"
   ]
  },
  {
   "cell_type": "markdown",
   "metadata": {},
   "source": [
    "* from this boxplot we understand that if someone has a mortgage and also subscribed usually he's younger"
   ]
  },
  {
   "cell_type": "markdown",
   "metadata": {},
   "source": [
    "### skew : "
   ]
  },
  {
   "cell_type": "code",
   "execution_count": 14,
   "metadata": {},
   "outputs": [
    {
     "data": {
      "image/png": "[encoded data removed]",
      "text/plain": [
       "<Figure size 360x360 with 1 Axes>"
      ]
     },
     "metadata": {},
     "output_type": "display_data"
    },
    {
     "data": {
      "image/png": "[encoded data removed]",
      "text/plain": [
       "<Figure size 360x360 with 1 Axes>"
      ]
     },
     "metadata": {},
     "output_type": "display_data"
    },
    {
     "data": {
      "image/png": "[encoded data removed]",
      "text/plain": [
       "<Figure size 360x360 with 1 Axes>"
      ]
     },
     "metadata": {},
     "output_type": "display_data"
    },
    {
     "data": {
      "image/png": "[encoded data removed]",
      "text/plain": [
       "<Figure size 360x360 with 1 Axes>"
      ]
     },
     "metadata": {},
     "output_type": "display_data"
    },
    {
     "data": {
      "image/png": "[encoded data removed]",
      "text/plain": [
       "<Figure size 360x360 with 1 Axes>"
      ]
     },
     "metadata": {},
     "output_type": "display_data"
    },
    {
     "data": {
      "image/png": "[encoded data removed]",
      "text/plain": [
       "<Figure size 360x360 with 1 Axes>"
      ]
     },
     "metadata": {},
     "output_type": "display_data"
    }
   ],
   "source": [
    "for col in num_col:\n",
    "    sns.displot(num_data[col], bins=20, kde=True, color='blue')"
   ]
  },
  {
   "cell_type": "code",
   "execution_count": 15,
   "metadata": {},
   "outputs": [
    {
     "data": {
      "text/plain": [
       "0.6962760241958142"
      ]
     },
     "execution_count": 15,
     "metadata": {},
     "output_type": "execute_result"
    }
   ],
   "source": [
    "num_data['age'].skew(axis = 0, skipna = True) "
   ]
  },
  {
   "cell_type": "code",
   "execution_count": 16,
   "metadata": {},
   "outputs": [
    {
     "data": {
      "text/plain": [
       "4.791966663755302"
      ]
     },
     "execution_count": 16,
     "metadata": {},
     "output_type": "execute_result"
    }
   ],
   "source": [
    "num_data['n_contact'].skew(axis = 0, skipna = True) "
   ]
  },
  {
   "cell_type": "code",
   "execution_count": 17,
   "metadata": {},
   "outputs": [
    {
     "data": {
      "text/plain": [
       "8.348069094854177"
      ]
     },
     "execution_count": 17,
     "metadata": {},
     "output_type": "execute_result"
    }
   ],
   "source": [
    "num_data['account_balance'].skew(axis = 0, skipna = True) "
   ]
  },
  {
   "cell_type": "markdown",
   "metadata": {},
   "source": [
    "* We see that only in column \"age\" we get a good distribution"
   ]
  },
  {
   "cell_type": "code",
   "execution_count": 18,
   "metadata": {},
   "outputs": [
    {
     "data": {
      "text/plain": [
       "<AxesSubplot:xlabel='consent', ylabel='age'>"
      ]
     },
     "execution_count": 18,
     "metadata": {},
     "output_type": "execute_result"
    },
    {
     "data": {
      "image/png": "[encoded data removed]",
      "text/plain": [
       "<Figure size 360x576 with 1 Axes>"
      ]
     },
     "metadata": {},
     "output_type": "display_data"
    }
   ],
   "source": [
    "sns.set(rc={'figure.figsize':(5,8)})\n",
    "sns.boxplot(y=\"age\", x=\"consent\", hue= \"subscribed\", data=df, palette=\"Set3\")"
   ]
  },
  {
   "cell_type": "markdown",
   "metadata": {},
   "source": [
    "* From here we understand that who gave consent to the offer also subscribed so we understand that when someone agrees to  the offer they will definitely subscribe.<br>\n",
    "* we'll see full correlation between them."
   ]
  },
  {
   "cell_type": "code",
   "execution_count": 19,
   "metadata": {},
   "outputs": [
    {
     "data": {
      "text/plain": [
       "count      2458\n",
       "unique        2\n",
       "top       False\n",
       "freq       2195\n",
       "Name: credit, dtype: object"
      ]
     },
     "execution_count": 19,
     "metadata": {},
     "output_type": "execute_result"
    }
   ],
   "source": [
    "df['credit'][df['positive']==False].describe()"
   ]
  },
  {
   "cell_type": "code",
   "execution_count": 20,
   "metadata": {},
   "outputs": [
    {
     "data": {
      "text/plain": [
       "count     28059\n",
       "unique        2\n",
       "top       False\n",
       "freq      27792\n",
       "Name: credit, dtype: object"
      ]
     },
     "execution_count": 20,
     "metadata": {},
     "output_type": "execute_result"
    }
   ],
   "source": [
    "df['credit'][df['positive']==True].describe()\n"
   ]
  },
  {
   "cell_type": "code",
   "execution_count": 21,
   "metadata": {},
   "outputs": [
    {
     "data": {
      "text/plain": [
       "count     30517\n",
       "unique        2\n",
       "top        True\n",
       "freq      28059\n",
       "Name: positive, dtype: object"
      ]
     },
     "execution_count": 21,
     "metadata": {},
     "output_type": "execute_result"
    }
   ],
   "source": [
    "df['positive'].describe()"
   ]
  },
  {
   "cell_type": "code",
   "execution_count": 22,
   "metadata": {},
   "outputs": [
    {
     "data": {
      "text/plain": [
       "count     30517\n",
       "unique        2\n",
       "top       False\n",
       "freq      29987\n",
       "Name: credit, dtype: object"
      ]
     },
     "execution_count": 22,
     "metadata": {},
     "output_type": "execute_result"
    }
   ],
   "source": [
    "df['credit'].describe()"
   ]
  },
  {
   "cell_type": "markdown",
   "metadata": {},
   "source": [
    "## missing values:"
   ]
  },
  {
   "cell_type": "markdown",
   "metadata": {},
   "source": [
    "### Education"
   ]
  },
  {
   "cell_type": "code",
   "execution_count": 23,
   "metadata": {},
   "outputs": [
    {
     "data": {
      "text/plain": [
       "master      15622\n",
       "doctoral     9061\n",
       "bachelor     4590\n",
       "unknown      1244\n",
       "Name: education, dtype: int64"
      ]
     },
     "execution_count": 23,
     "metadata": {},
     "output_type": "execute_result"
    }
   ],
   "source": [
    "df['education'].value_counts()"
   ]
  },
  {
   "cell_type": "markdown",
   "metadata": {},
   "source": [
    "* 4%  only of education is unknown, we need to decide in which way we treat the missing data <br>"
   ]
  },
  {
   "cell_type": "code",
   "execution_count": 24,
   "metadata": {},
   "outputs": [
    {
     "data": {
      "text/plain": [
       "profession\n",
       "engineer         314\n",
       "manager          166\n",
       "scientist        163\n",
       "technician       113\n",
       "unemployed       112\n",
       "teacher           97\n",
       "unknown           89\n",
       "accountant        80\n",
       "retired           46\n",
       "architect         25\n",
       "student           24\n",
       "self-employed     15\n",
       "dtype: int64"
      ]
     },
     "execution_count": 24,
     "metadata": {},
     "output_type": "execute_result"
    }
   ],
   "source": [
    "unknown_ed_df = df.loc[df['education']=='unknown']\n",
    "unknown_ed_df.value_counts(df['profession'])"
   ]
  },
  {
   "cell_type": "markdown",
   "metadata": {},
   "source": [
    "* people we don't have information about their education and proffession are only 89 , thats 0.3%  "
   ]
  },
  {
   "cell_type": "markdown",
   "metadata": {},
   "source": [
    "#### replacing the unknown:"
   ]
  },
  {
   "cell_type": "markdown",
   "metadata": {},
   "source": [
    "* first we replace the names of the education to numbers and where it was 'unknown' we fill with nan"
   ]
  },
  {
   "cell_type": "code",
   "execution_count": 25,
   "metadata": {},
   "outputs": [],
   "source": [
    "df[\"education1\"]=df[\"education\"]"
   ]
  },
  {
   "cell_type": "code",
   "execution_count": 26,
   "metadata": {},
   "outputs": [],
   "source": [
    "df[\"education1\"] = df[\"education1\"].replace(to_replace=\"bachelor\",value= int(1))\n",
    "df[\"education1\"] = df[\"education1\"].replace(to_replace=\"master\", value=int(2))\n",
    "df[\"education1\"] = df[\"education1\"].replace(to_replace=\"doctoral\", value=int(3))\n",
    "df[\"education1\"] = df[\"education1\"].replace(to_replace=\"unknown\",value= np.nan)"
   ]
  },
  {
   "cell_type": "code",
   "execution_count": 27,
   "metadata": {},
   "outputs": [
    {
     "data": {
      "text/plain": [
       "<seaborn.axisgrid.FacetGrid at 0x158600a1460>"
      ]
     },
     "execution_count": 27,
     "metadata": {},
     "output_type": "execute_result"
    },
    {
     "data": {
      "image/png": "[encoded data removed]",
      "text/plain": [
       "<Figure size 648x864 with 12 Axes>"
      ]
     },
     "metadata": {},
     "output_type": "display_data"
    }
   ],
   "source": [
    "g = sns.FacetGrid(df, col = 'profession',col_wrap=3)\n",
    "g.map(plt.hist,'education1')"
   ]
  },
  {
   "cell_type": "code",
   "execution_count": 28,
   "metadata": {},
   "outputs": [
    {
     "name": "stdout",
     "output_type": "stream",
     "text": [
      "For class  student  the median is  3.0\n",
      "For class  scientist  the median is  2.0\n",
      "For class  technician  the median is  2.0\n",
      "For class  engineer  the median is  2.0\n",
      "For class  manager  the median is  3.0\n",
      "For class  teacher  the median is  2.0\n",
      "For class  architect  the median is  1.0\n",
      "For class  accountant  the median is  2.0\n",
      "For class  retired  the median is  2.0\n",
      "For class  unknown  the median is  2.0\n",
      "For class  self-employed  the median is  2.0\n",
      "For class  unemployed  the median is  2.0\n"
     ]
    }
   ],
   "source": [
    "for i in df['profession'].unique():\n",
    "    df.loc[df['profession']==i , 'education1'] = df['education1'][df['profession']==i].fillna(value=df['education1'][df['profession']==i].median())\n",
    "    print(\"For class \", i, \" the median is \", df.loc[df['profession']==i , 'education1'].median())"
   ]
  },
  {
   "cell_type": "code",
   "execution_count": 29,
   "metadata": {},
   "outputs": [
    {
     "data": {
      "text/plain": [
       "2.0    16651\n",
       "3.0     9251\n",
       "1.0     4615\n",
       "Name: education1, dtype: int64"
      ]
     },
     "execution_count": 29,
     "metadata": {},
     "output_type": "execute_result"
    }
   ],
   "source": [
    "df['education1'].value_counts()"
   ]
  },
  {
   "cell_type": "markdown",
   "metadata": {},
   "source": [
    "* we filled the missing values for unknown educations with the median of education for every profession.<br>\n",
    "    because there is a storng connection between what profession holds a person to his education."
   ]
  },
  {
   "cell_type": "markdown",
   "metadata": {},
   "source": [
    "### Profession"
   ]
  },
  {
   "cell_type": "markdown",
   "metadata": {},
   "source": [
    "* we'll find the education of the unknown profession and fill them the common profession for this education level. "
   ]
  },
  {
   "cell_type": "code",
   "execution_count": 30,
   "metadata": {},
   "outputs": [
    {
     "data": {
      "text/plain": [
       "engineer         6538\n",
       "manager          6458\n",
       "scientist        5138\n",
       "technician       3503\n",
       "teacher          2759\n",
       "accountant       1491\n",
       "student          1096\n",
       "retired           988\n",
       "self-employed     882\n",
       "architect         833\n",
       "unemployed        638\n",
       "unknown           193\n",
       "Name: profession, dtype: int64"
      ]
     },
     "execution_count": 30,
     "metadata": {},
     "output_type": "execute_result"
    }
   ],
   "source": [
    "df['profession'].value_counts()"
   ]
  },
  {
   "cell_type": "code",
   "execution_count": 31,
   "metadata": {},
   "outputs": [],
   "source": [
    "df['profession1'] = df['profession']"
   ]
  },
  {
   "cell_type": "code",
   "execution_count": 32,
   "metadata": {},
   "outputs": [],
   "source": [
    "df['profession1'] =df['profession1'].replace(\"unknown\",np.nan)"
   ]
  },
  {
   "cell_type": "markdown",
   "metadata": {},
   "source": [
    "* we'll find the most common profession for every level of education:\n"
   ]
  },
  {
   "cell_type": "code",
   "execution_count": 33,
   "metadata": {},
   "outputs": [
    {
     "data": {
      "text/plain": [
       "count         4585\n",
       "unique          11\n",
       "top       engineer\n",
       "freq          2537\n",
       "Name: profession1, dtype: object"
      ]
     },
     "execution_count": 33,
     "metadata": {},
     "output_type": "execute_result"
    }
   ],
   "source": [
    "df['profession1'][df['education1']==1].describe()"
   ]
  },
  {
   "cell_type": "code",
   "execution_count": 34,
   "metadata": {},
   "outputs": [
    {
     "data": {
      "text/plain": [
       "count        16517\n",
       "unique          11\n",
       "top       engineer\n",
       "freq          3905\n",
       "Name: profession1, dtype: object"
      ]
     },
     "execution_count": 34,
     "metadata": {},
     "output_type": "execute_result"
    }
   ],
   "source": [
    "df['profession1'][df['education1']==2].describe()"
   ]
  },
  {
   "cell_type": "code",
   "execution_count": 35,
   "metadata": {},
   "outputs": [
    {
     "data": {
      "text/plain": [
       "count        9222\n",
       "unique         11\n",
       "top       manager\n",
       "freq         5493\n",
       "Name: profession1, dtype: object"
      ]
     },
     "execution_count": 35,
     "metadata": {},
     "output_type": "execute_result"
    }
   ],
   "source": [
    "df['profession1'][df['education1']==3].describe()"
   ]
  },
  {
   "cell_type": "code",
   "execution_count": 36,
   "metadata": {},
   "outputs": [],
   "source": [
    "df.loc[df['education1']==1 , 'profession1'] = df['profession1'][df['education1']==1].fillna(value=\"engineer\")\n",
    "df.loc[df['education1']==2 , 'profession1'] = df['profession1'][df['education1']==2].fillna(value=\"engineer\")\n",
    "df.loc[df['education1']==3 , 'profession1'] = df['profession1'][df['education1']==3].fillna(value=\"manager\")"
   ]
  },
  {
   "cell_type": "code",
   "execution_count": 37,
   "metadata": {},
   "outputs": [
    {
     "data": {
      "text/plain": [
       "engineer         6702\n",
       "manager          6487\n",
       "scientist        5138\n",
       "technician       3503\n",
       "teacher          2759\n",
       "accountant       1491\n",
       "student          1096\n",
       "retired           988\n",
       "self-employed     882\n",
       "architect         833\n",
       "unemployed        638\n",
       "Name: profession1, dtype: int64"
      ]
     },
     "execution_count": 37,
     "metadata": {},
     "output_type": "execute_result"
    }
   ],
   "source": [
    "df['profession1'].value_counts()"
   ]
  },
  {
   "cell_type": "markdown",
   "metadata": {},
   "source": [
    "### device - communication type"
   ]
  },
  {
   "cell_type": "code",
   "execution_count": 38,
   "metadata": {},
   "outputs": [
    {
     "data": {
      "text/plain": [
       "cellular     19718\n",
       "unknown       8871\n",
       "telephone     1928\n",
       "Name: device, dtype: int64"
      ]
     },
     "execution_count": 38,
     "metadata": {},
     "output_type": "execute_result"
    }
   ],
   "source": [
    "df['device'].value_counts()"
   ]
  },
  {
   "cell_type": "markdown",
   "metadata": {},
   "source": [
    "* 30% of the device rows is unknown <br>\n",
    "    we'll find the best replacement for the unknown values<br>"
   ]
  },
  {
   "cell_type": "code",
   "execution_count": 39,
   "metadata": {},
   "outputs": [
    {
     "data": {
      "text/plain": [
       "<seaborn.axisgrid.FacetGrid at 0x15867cf6370>"
      ]
     },
     "execution_count": 39,
     "metadata": {},
     "output_type": "execute_result"
    },
    {
     "data": {
      "image/png": "[encoded data removed]",
      "text/plain": [
       "<Figure size 432x216 with 2 Axes>"
      ]
     },
     "metadata": {},
     "output_type": "display_data"
    }
   ],
   "source": [
    "g = sns.FacetGrid(df, col = 'subscribed')\n",
    "g.map(plt.hist,'device')"
   ]
  },
  {
   "cell_type": "markdown",
   "metadata": {},
   "source": [
    " * we can understand from that that the influence of \"unknown\" device on the subscribtion is not high so we'll replace the \"unknown\" with the common \"cellular\" "
   ]
  },
  {
   "cell_type": "code",
   "execution_count": 40,
   "metadata": {},
   "outputs": [],
   "source": [
    "df[\"device1\"] = df[\"device\"].replace('unknown', 'cellular')"
   ]
  },
  {
   "cell_type": "markdown",
   "metadata": {},
   "source": [
    "* we'll define device as :  cellular = 1 telephone = 0 "
   ]
  },
  {
   "cell_type": "code",
   "execution_count": 41,
   "metadata": {},
   "outputs": [],
   "source": [
    "df[\"device1\"] = df[\"device1\"].replace([\"cellular\",\"telephone\"],[1,0])"
   ]
  },
  {
   "cell_type": "markdown",
   "metadata": {},
   "source": [
    "### p_outcome -  the outcome of the previous campaigns"
   ]
  },
  {
   "cell_type": "code",
   "execution_count": 42,
   "metadata": {},
   "outputs": [
    {
     "data": {
      "text/plain": [
       "unknown    24943\n",
       "failure     3330\n",
       "other       1227\n",
       "success     1017\n",
       "Name: p_outcome, dtype: int64"
      ]
     },
     "execution_count": 42,
     "metadata": {},
     "output_type": "execute_result"
    }
   ],
   "source": [
    "df['p_outcome'].value_counts()"
   ]
  },
  {
   "cell_type": "markdown",
   "metadata": {},
   "source": [
    "* we decided to combine the \"other\" to unknown, most common is unknown and also for our case we look for result of success or <br>\n",
    "    failure so \"other\" in our case means the same as unknown."
   ]
  },
  {
   "cell_type": "code",
   "execution_count": 43,
   "metadata": {},
   "outputs": [],
   "source": [
    "df[\"p_outcome\"] = df[\"p_outcome\"].replace('other', 'unknown')"
   ]
  },
  {
   "cell_type": "code",
   "execution_count": 44,
   "metadata": {},
   "outputs": [],
   "source": [
    "df[\"p_outcome\"] = df[\"p_outcome\"].replace('unknown', -1)\n",
    "df[\"p_outcome\"] = df[\"p_outcome\"].replace('failure', 0)\n",
    "df[\"p_outcome\"] = df[\"p_outcome\"].replace('success', 1)"
   ]
  },
  {
   "cell_type": "code",
   "execution_count": 45,
   "metadata": {},
   "outputs": [
    {
     "data": {
      "text/plain": [
       "-1    26170\n",
       " 0     3330\n",
       " 1     1017\n",
       "Name: p_outcome, dtype: int64"
      ]
     },
     "execution_count": 45,
     "metadata": {},
     "output_type": "execute_result"
    }
   ],
   "source": [
    "df['p_outcome'].value_counts()"
   ]
  },
  {
   "cell_type": "markdown",
   "metadata": {},
   "source": [
    "### p_days - number of days since the last contact in a previous campaigns"
   ]
  },
  {
   "cell_type": "code",
   "execution_count": 46,
   "metadata": {},
   "outputs": [
    {
     "data": {
      "text/plain": [
       "-1      24940\n",
       " 92       108\n",
       " 182      104\n",
       " 91        86\n",
       " 183       77\n",
       "        ...  \n",
       " 535        1\n",
       " 407        1\n",
       " 39         1\n",
       " 838        1\n",
       " 32         1\n",
       "Name: p_days, Length: 510, dtype: int64"
      ]
     },
     "execution_count": 46,
     "metadata": {},
     "output_type": "execute_result"
    }
   ],
   "source": [
    "df['p_days'].value_counts()"
   ]
  },
  {
   "cell_type": "code",
   "execution_count": 47,
   "metadata": {},
   "outputs": [
    {
     "data": {
      "text/plain": [
       "<seaborn.axisgrid.FacetGrid at 0x15867cfbfa0>"
      ]
     },
     "execution_count": 47,
     "metadata": {},
     "output_type": "execute_result"
    },
    {
     "data": {
      "image/png": "[encoded data removed]",
      "text/plain": [
       "<Figure size 360x360 with 1 Axes>"
      ]
     },
     "metadata": {},
     "output_type": "display_data"
    }
   ],
   "source": [
    "sns.displot(df['p_days'], bins=30, kde=True, color='skyblue')"
   ]
  },
  {
   "cell_type": "markdown",
   "metadata": {},
   "source": [
    " * we see that 81% wasn't connected in previous campaings <br>\n",
    "     and there are 510 different values for p_days, most of is higher than 100 days<br>\n",
    "     we decided to create new column \"conntacted before \" <br>\n",
    "     0 - never conntacted , 1 - contacted before any number of days<br>"
   ]
  },
  {
   "cell_type": "code",
   "execution_count": 48,
   "metadata": {},
   "outputs": [],
   "source": [
    "df[\"conntacted_before\"] = df[\"p_days\"].replace(-1, 0)\n",
    "df[\"conntacted_before\"] = df[\"conntacted_before\"].apply(lambda x: 1 if x >= 1  else  0)"
   ]
  },
  {
   "cell_type": "code",
   "execution_count": 49,
   "metadata": {},
   "outputs": [
    {
     "data": {
      "text/plain": [
       "0    24940\n",
       "1     5577\n",
       "Name: conntacted_before, dtype: int64"
      ]
     },
     "execution_count": 49,
     "metadata": {},
     "output_type": "execute_result"
    }
   ],
   "source": [
    "df['conntacted_before'].value_counts()"
   ]
  },
  {
   "cell_type": "markdown",
   "metadata": {},
   "source": [
    "#### conntacted_before and n_p_contact :"
   ]
  },
  {
   "cell_type": "code",
   "execution_count": 50,
   "metadata": {},
   "outputs": [
    {
     "data": {
      "text/plain": [
       "0      24940\n",
       "1       1881\n",
       "2       1393\n",
       "3        788\n",
       "4        493\n",
       "5        309\n",
       "6        194\n",
       "7        130\n",
       "8         83\n",
       "9         69\n",
       "11        45\n",
       "10        39\n",
       "12        28\n",
       "13        22\n",
       "15        13\n",
       "14        12\n",
       "17        12\n",
       "16         9\n",
       "19         8\n",
       "20         7\n",
       "23         7\n",
       "27         5\n",
       "18         4\n",
       "25         4\n",
       "21         3\n",
       "24         3\n",
       "29         3\n",
       "22         2\n",
       "28         2\n",
       "38         1\n",
       "55         1\n",
       "30         1\n",
       "51         1\n",
       "41         1\n",
       "275        1\n",
       "58         1\n",
       "26         1\n",
       "40         1\n",
       "Name: n_p_contact, dtype: int64"
      ]
     },
     "execution_count": 50,
     "metadata": {},
     "output_type": "execute_result"
    }
   ],
   "source": [
    "df['n_p_contact'].value_counts()"
   ]
  },
  {
   "cell_type": "markdown",
   "metadata": {},
   "source": [
    "* we see there is no inconsistents between connected before and n-p-contact as we hoped for"
   ]
  },
  {
   "cell_type": "markdown",
   "metadata": {},
   "source": [
    "### conntacted before and p_outcome"
   ]
  },
  {
   "cell_type": "code",
   "execution_count": 51,
   "metadata": {},
   "outputs": [
    {
     "data": {
      "text/plain": [
       "<seaborn.axisgrid.FacetGrid at 0x158680f58e0>"
      ]
     },
     "execution_count": 51,
     "metadata": {},
     "output_type": "execute_result"
    },
    {
     "data": {
      "image/png": "[encoded data removed]",
      "text/plain": [
       "<Figure size 432x216 with 2 Axes>"
      ]
     },
     "metadata": {},
     "output_type": "display_data"
    }
   ],
   "source": [
    "g = sns.FacetGrid(df, col='conntacted_before')\n",
    "g.map(plt.hist, 'p_outcome')"
   ]
  },
  {
   "cell_type": "markdown",
   "metadata": {},
   "source": [
    "### n_child -"
   ]
  },
  {
   "cell_type": "code",
   "execution_count": 52,
   "metadata": {
    "scrolled": true
   },
   "outputs": [
    {
     "data": {
      "text/plain": [
       "unknown      19820\n",
       "1             3058\n",
       "3 or more     3048\n",
       "0             3039\n",
       "2             1552\n",
       "Name: n_child, dtype: int64"
      ]
     },
     "execution_count": 52,
     "metadata": {},
     "output_type": "execute_result"
    }
   ],
   "source": [
    "df['n_child'].value_counts()"
   ]
  },
  {
   "cell_type": "markdown",
   "metadata": {},
   "source": [
    "* n-child has mostly unknown (65%) value so it'll be problematic to fill that big gap\n",
    "* we'll change the values to numeric values , for 3 and more we placed 3 "
   ]
  },
  {
   "cell_type": "code",
   "execution_count": 53,
   "metadata": {},
   "outputs": [],
   "source": [
    "df['n_child1'] = df['n_child']"
   ]
  },
  {
   "cell_type": "code",
   "execution_count": 54,
   "metadata": {},
   "outputs": [],
   "source": [
    "df['n_child1'] = df['n_child1'].replace('unknown' , -1)\n",
    "df['n_child1'] = df['n_child1'].replace('0',0.0)\n",
    "df['n_child1'] = df['n_child1'].replace('1',1.0)\n",
    "df['n_child1'] = df['n_child1'].replace('2',2.0)\n",
    "df['n_child1'] = df['n_child1'].replace('3 or more',3.0)"
   ]
  },
  {
   "cell_type": "code",
   "execution_count": 55,
   "metadata": {},
   "outputs": [
    {
     "data": {
      "text/plain": [
       "-1.0    19820\n",
       " 1.0     3058\n",
       " 3.0     3048\n",
       " 0.0     3039\n",
       " 2.0     1552\n",
       "Name: n_child1, dtype: int64"
      ]
     },
     "execution_count": 55,
     "metadata": {},
     "output_type": "execute_result"
    }
   ],
   "source": [
    "df['n_child1'].value_counts()"
   ]
  },
  {
   "cell_type": "code",
   "execution_count": 56,
   "metadata": {},
   "outputs": [
    {
     "data": {
      "text/plain": [
       "<AxesSubplot:>"
      ]
     },
     "execution_count": 56,
     "metadata": {},
     "output_type": "execute_result"
    },
    {
     "data": {
      "image/png": "[encoded data removed]",
      "text/plain": [
       "<Figure size 720x720 with 2 Axes>"
      ]
     },
     "metadata": {},
     "output_type": "display_data"
    }
   ],
   "source": [
    "sns.set(rc={'figure.figsize':(10,10)}) # settings for seaborn plot sizes\n",
    "sns.heatmap(df.corr(), annot = True, vmin=-1, vmax=1, center= 0,\n",
    "            cmap= 'coolwarm', linewidths=0.5, linecolor='black', cbar_kws= {'orientation': 'horizontal'})"
   ]
  },
  {
   "cell_type": "markdown",
   "metadata": {},
   "source": [
    "### Discretization:\n",
    "#### we we'll do it on l_call_duration :very long call, long call,  very short call, short call and averege call"
   ]
  },
  {
   "cell_type": "markdown",
   "metadata": {},
   "source": [
    "## Data transformation :"
   ]
  },
  {
   "cell_type": "code",
   "execution_count": 57,
   "metadata": {},
   "outputs": [
    {
     "data": {
      "text/plain": [
       "885.0"
      ]
     },
     "execution_count": 57,
     "metadata": {},
     "output_type": "execute_result"
    }
   ],
   "source": [
    "A = df[\"l_call_duration\"].min()\n",
    "B = df[\"l_call_duration\"].max()\n",
    "N = 5\n",
    "W = np.round((B - A)/N)\n",
    "W"
   ]
  },
  {
   "cell_type": "code",
   "execution_count": 58,
   "metadata": {},
   "outputs": [],
   "source": [
    "df.loc[ df['l_call_duration'] <= W, 'call_bin'] = 0\n",
    "df.loc[(df['l_call_duration'] > W) & (df['l_call_duration'] <= 2*W), 'call_bin'] = 1\n",
    "df.loc[(df['l_call_duration'] > 2*W) & (df['l_call_duration'] <= 3*W), 'call_bin'] = 2\n",
    "df.loc[(df['l_call_duration'] > 3*W) & (df['l_call_duration'] <= 4*W), 'call_bin'] = 3\n",
    "df.loc[ df['l_call_duration'] > 4*W, 'call_bin'] = 4"
   ]
  },
  {
   "cell_type": "code",
   "execution_count": 59,
   "metadata": {},
   "outputs": [
    {
     "data": {
      "text/plain": [
       "0.0    29761\n",
       "1.0      703\n",
       "2.0       40\n",
       "3.0       12\n",
       "4.0        1\n",
       "Name: call_bin, dtype: int64"
      ]
     },
     "execution_count": 59,
     "metadata": {},
     "output_type": "execute_result"
    }
   ],
   "source": [
    "df['call_bin'].value_counts()"
   ]
  },
  {
   "cell_type": "markdown",
   "metadata": {},
   "source": [
    "* we got a not so good of a result because the max made W bigger than what we wanted, so the 0 bin is fuller than the others. \n",
    "    we'll switch B-A to the median*2 of call duartion for better results "
   ]
  },
  {
   "cell_type": "code",
   "execution_count": 60,
   "metadata": {},
   "outputs": [
    {
     "data": {
      "text/plain": [
       "66.0"
      ]
     },
     "execution_count": 60,
     "metadata": {},
     "output_type": "execute_result"
    }
   ],
   "source": [
    "C = df[\"l_call_duration\"].median()\n",
    "N = 5\n",
    "W = np.round((C*2)/N)\n",
    "W"
   ]
  },
  {
   "cell_type": "code",
   "execution_count": 61,
   "metadata": {},
   "outputs": [],
   "source": [
    "df.loc[ df['l_call_duration'] <= W, 'call_bin'] = 0\n",
    "df.loc[(df['l_call_duration'] > W) & (df['l_call_duration'] <= 2*W), 'call_bin'] = 1\n",
    "df.loc[(df['l_call_duration'] > 2*W) & (df['l_call_duration'] <= 3*W), 'call_bin'] = 2\n",
    "df.loc[(df['l_call_duration'] > 3*W) & (df['l_call_duration'] <= 4*W), 'call_bin'] = 3\n",
    "df.loc[ df['l_call_duration'] > 4*W, 'call_bin'] = 4"
   ]
  },
  {
   "cell_type": "code",
   "execution_count": 62,
   "metadata": {},
   "outputs": [
    {
     "data": {
      "text/plain": [
       "4.0    8543\n",
       "1.0    7786\n",
       "2.0    6075\n",
       "0.0    4257\n",
       "3.0    3856\n",
       "Name: call_bin, dtype: int64"
      ]
     },
     "execution_count": 62,
     "metadata": {},
     "output_type": "execute_result"
    }
   ],
   "source": [
    "df['call_bin'].value_counts()"
   ]
  },
  {
   "cell_type": "code",
   "execution_count": 63,
   "metadata": {},
   "outputs": [
    {
     "data": {
      "text/plain": [
       "<seaborn.axisgrid.FacetGrid at 0x158665c8310>"
      ]
     },
     "execution_count": 63,
     "metadata": {},
     "output_type": "execute_result"
    },
    {
     "data": {
      "image/png": "[encoded data removed]",
      "text/plain": [
       "<Figure size 360x360 with 1 Axes>"
      ]
     },
     "metadata": {},
     "output_type": "display_data"
    }
   ],
   "source": [
    "sns.displot(df['call_bin'], bins=30, kde=True, color='skyblue')"
   ]
  },
  {
   "cell_type": "markdown",
   "metadata": {},
   "source": [
    "### Normalization"
   ]
  },
  {
   "cell_type": "markdown",
   "metadata": {},
   "source": [
    "* age  and account balance in Z-score normalization : Change the data to be with 0 mean and variance 1 "
   ]
  },
  {
   "cell_type": "code",
   "execution_count": 64,
   "metadata": {},
   "outputs": [
    {
     "name": "stdout",
     "output_type": "stream",
     "text": [
      "id \n",
      "512491   -0.837848\n",
      "495633    0.389623\n",
      "507946    1.239411\n",
      "491165   -1.026689\n",
      "494627   -0.082481\n",
      "Name: age_norm, dtype: float64\n"
     ]
    },
    {
     "data": {
      "text/plain": [
       "<seaborn.axisgrid.FacetGrid at 0x158665c8220>"
      ]
     },
     "execution_count": 64,
     "metadata": {},
     "output_type": "execute_result"
    },
    {
     "data": {
      "image/png": "[encoded data removed]",
      "text/plain": [
       "<Figure size 360x360 with 1 Axes>"
      ]
     },
     "metadata": {},
     "output_type": "display_data"
    },
    {
     "data": {
      "image/png": "[encoded data removed]",
      "text/plain": [
       "<Figure size 360x360 with 1 Axes>"
      ]
     },
     "metadata": {},
     "output_type": "display_data"
    }
   ],
   "source": [
    "z_scaler = StandardScaler()\n",
    "z_scaler.fit(pd.DataFrame(df['age']))\n",
    "df['age_norm'] = z_scaler.transform(pd.DataFrame(df['age']))\n",
    "print(df['age_norm'].head())\n",
    "sns.displot(df['age_norm'], bins=20, kde=True, color='skyblue')\n",
    "sns.displot(df['age'], bins=20, kde=True, color='skyblue')"
   ]
  },
  {
   "cell_type": "code",
   "execution_count": 65,
   "metadata": {},
   "outputs": [
    {
     "name": "stdout",
     "output_type": "stream",
     "text": [
      "id \n",
      "512491   -0.339147\n",
      "495633    0.040277\n",
      "507946    0.585492\n",
      "491165   -0.255155\n",
      "494627   -0.785398\n",
      "Name: account_norm, dtype: float64\n"
     ]
    },
    {
     "data": {
      "text/plain": [
       "<seaborn.axisgrid.FacetGrid at 0x15868a5ef70>"
      ]
     },
     "execution_count": 65,
     "metadata": {},
     "output_type": "execute_result"
    },
    {
     "data": {
      "image/png": "[encoded data removed]",
      "text/plain": [
       "<Figure size 360x360 with 1 Axes>"
      ]
     },
     "metadata": {},
     "output_type": "display_data"
    },
    {
     "data": {
      "image/png": "[encoded data removed]",
      "text/plain": [
       "<Figure size 360x360 with 1 Axes>"
      ]
     },
     "metadata": {},
     "output_type": "display_data"
    }
   ],
   "source": [
    "z_scaler = StandardScaler()\n",
    "z_scaler.fit(pd.DataFrame(df['account_balance']))\n",
    "df['account_norm'] = z_scaler.transform(pd.DataFrame(df['account_balance']))\n",
    "print(df['account_norm'].head())\n",
    "sns.displot(df['account_norm'], bins=20, kde=True, color='skyblue')\n",
    "sns.displot(df['account_balance'], bins=20, kde=True, color='skyblue')"
   ]
  },
  {
   "cell_type": "markdown",
   "metadata": {},
   "source": [
    "## Data reduction : "
   ]
  },
  {
   "cell_type": "markdown",
   "metadata": {},
   "source": [
    "* we changed the bool types to 1 and 0 "
   ]
  },
  {
   "cell_type": "code",
   "execution_count": 66,
   "metadata": {},
   "outputs": [],
   "source": [
    "df['subscribed1']=df['subscribed'].replace([True,False],[1,0])\n",
    "df['loan1']=df['loan'].replace([True,False],[1,0])\n",
    "df['mortgage1']=df['mortgage'].replace([True,False],[1,0])\n",
    "df['credit1']=df['credit'].replace([True,False],[1,0])"
   ]
  },
  {
   "cell_type": "markdown",
   "metadata": {},
   "source": [
    "* change status to numeric value : 1 - single , 2 - married , 3 - divorced "
   ]
  },
  {
   "cell_type": "code",
   "execution_count": 67,
   "metadata": {},
   "outputs": [],
   "source": [
    "df['status'] = df['status'].replace([\"single\",\"married\",\"divorced\"],[1,2,3])"
   ]
  },
  {
   "cell_type": "code",
   "execution_count": 68,
   "metadata": {},
   "outputs": [
    {
     "data": {
      "text/html": [
       "<div>\n",
       "<style scoped>\n",
       "    .dataframe tbody tr th:only-of-type {\n",
       "        vertical-align: middle;\n",
       "    }\n",
       "\n",
       "    .dataframe tbody tr th {\n",
       "        vertical-align: top;\n",
       "    }\n",
       "\n",
       "    .dataframe thead th {\n",
       "        text-align: right;\n",
       "    }\n",
       "</style>\n",
       "<table border=\"1\" class=\"dataframe\">\n",
       "  <thead>\n",
       "    <tr style=\"text-align: right;\">\n",
       "      <th></th>\n",
       "      <th>subscribed1</th>\n",
       "      <th>loan1</th>\n",
       "      <th>mortgage1</th>\n",
       "      <th>credit1</th>\n",
       "      <th>call_bin</th>\n",
       "      <th>age_norm</th>\n",
       "      <th>account_norm</th>\n",
       "      <th>age</th>\n",
       "      <th>account_balance</th>\n",
       "      <th>n_contact</th>\n",
       "      <th>l_call_duration</th>\n",
       "      <th>p_outcome</th>\n",
       "      <th>n_p_contact</th>\n",
       "      <th>conntacted_before</th>\n",
       "      <th>p_days</th>\n",
       "      <th>education1</th>\n",
       "      <th>device1</th>\n",
       "      <th>status</th>\n",
       "    </tr>\n",
       "    <tr>\n",
       "      <th>id</th>\n",
       "      <th></th>\n",
       "      <th></th>\n",
       "      <th></th>\n",
       "      <th></th>\n",
       "      <th></th>\n",
       "      <th></th>\n",
       "      <th></th>\n",
       "      <th></th>\n",
       "      <th></th>\n",
       "      <th></th>\n",
       "      <th></th>\n",
       "      <th></th>\n",
       "      <th></th>\n",
       "      <th></th>\n",
       "      <th></th>\n",
       "      <th></th>\n",
       "      <th></th>\n",
       "      <th></th>\n",
       "    </tr>\n",
       "  </thead>\n",
       "  <tbody>\n",
       "    <tr>\n",
       "      <th>512491</th>\n",
       "      <td>0</td>\n",
       "      <td>0</td>\n",
       "      <td>1</td>\n",
       "      <td>0</td>\n",
       "      <td>2.0</td>\n",
       "      <td>-0.837848</td>\n",
       "      <td>-0.339147</td>\n",
       "      <td>32</td>\n",
       "      <td>300</td>\n",
       "      <td>2</td>\n",
       "      <td>175</td>\n",
       "      <td>0</td>\n",
       "      <td>1</td>\n",
       "      <td>1</td>\n",
       "      <td>272</td>\n",
       "      <td>3.0</td>\n",
       "      <td>1</td>\n",
       "      <td>2</td>\n",
       "    </tr>\n",
       "    <tr>\n",
       "      <th>495633</th>\n",
       "      <td>0</td>\n",
       "      <td>0</td>\n",
       "      <td>1</td>\n",
       "      <td>0</td>\n",
       "      <td>4.0</td>\n",
       "      <td>0.389623</td>\n",
       "      <td>0.040277</td>\n",
       "      <td>45</td>\n",
       "      <td>1339</td>\n",
       "      <td>1</td>\n",
       "      <td>322</td>\n",
       "      <td>-1</td>\n",
       "      <td>0</td>\n",
       "      <td>0</td>\n",
       "      <td>-1</td>\n",
       "      <td>2.0</td>\n",
       "      <td>1</td>\n",
       "      <td>2</td>\n",
       "    </tr>\n",
       "    <tr>\n",
       "      <th>507946</th>\n",
       "      <td>0</td>\n",
       "      <td>0</td>\n",
       "      <td>1</td>\n",
       "      <td>0</td>\n",
       "      <td>1.0</td>\n",
       "      <td>1.239411</td>\n",
       "      <td>0.585492</td>\n",
       "      <td>54</td>\n",
       "      <td>2832</td>\n",
       "      <td>1</td>\n",
       "      <td>67</td>\n",
       "      <td>-1</td>\n",
       "      <td>0</td>\n",
       "      <td>0</td>\n",
       "      <td>-1</td>\n",
       "      <td>2.0</td>\n",
       "      <td>0</td>\n",
       "      <td>2</td>\n",
       "    </tr>\n",
       "    <tr>\n",
       "      <th>491165</th>\n",
       "      <td>0</td>\n",
       "      <td>1</td>\n",
       "      <td>1</td>\n",
       "      <td>0</td>\n",
       "      <td>0.0</td>\n",
       "      <td>-1.026689</td>\n",
       "      <td>-0.255155</td>\n",
       "      <td>30</td>\n",
       "      <td>530</td>\n",
       "      <td>1</td>\n",
       "      <td>45</td>\n",
       "      <td>-1</td>\n",
       "      <td>0</td>\n",
       "      <td>0</td>\n",
       "      <td>-1</td>\n",
       "      <td>2.0</td>\n",
       "      <td>1</td>\n",
       "      <td>2</td>\n",
       "    </tr>\n",
       "    <tr>\n",
       "      <th>494627</th>\n",
       "      <td>0</td>\n",
       "      <td>1</td>\n",
       "      <td>1</td>\n",
       "      <td>1</td>\n",
       "      <td>0.0</td>\n",
       "      <td>-0.082481</td>\n",
       "      <td>-0.785398</td>\n",
       "      <td>40</td>\n",
       "      <td>-922</td>\n",
       "      <td>2</td>\n",
       "      <td>39</td>\n",
       "      <td>-1</td>\n",
       "      <td>0</td>\n",
       "      <td>0</td>\n",
       "      <td>-1</td>\n",
       "      <td>3.0</td>\n",
       "      <td>1</td>\n",
       "      <td>2</td>\n",
       "    </tr>\n",
       "  </tbody>\n",
       "</table>\n",
       "</div>"
      ],
      "text/plain": [
       "        subscribed1  loan1  mortgage1  credit1  call_bin  age_norm  \\\n",
       "id                                                                   \n",
       "512491            0      0          1        0       2.0 -0.837848   \n",
       "495633            0      0          1        0       4.0  0.389623   \n",
       "507946            0      0          1        0       1.0  1.239411   \n",
       "491165            0      1          1        0       0.0 -1.026689   \n",
       "494627            0      1          1        1       0.0 -0.082481   \n",
       "\n",
       "        account_norm  age  account_balance  n_contact  l_call_duration  \\\n",
       "id                                                                       \n",
       "512491     -0.339147   32              300          2              175   \n",
       "495633      0.040277   45             1339          1              322   \n",
       "507946      0.585492   54             2832          1               67   \n",
       "491165     -0.255155   30              530          1               45   \n",
       "494627     -0.785398   40             -922          2               39   \n",
       "\n",
       "        p_outcome  n_p_contact  conntacted_before  p_days  education1  \\\n",
       "id                                                                      \n",
       "512491          0            1                  1     272         3.0   \n",
       "495633         -1            0                  0      -1         2.0   \n",
       "507946         -1            0                  0      -1         2.0   \n",
       "491165         -1            0                  0      -1         2.0   \n",
       "494627         -1            0                  0      -1         3.0   \n",
       "\n",
       "        device1  status  \n",
       "id                       \n",
       "512491        1       2  \n",
       "495633        1       2  \n",
       "507946        0       2  \n",
       "491165        1       2  \n",
       "494627        1       2  "
      ]
     },
     "execution_count": 68,
     "metadata": {},
     "output_type": "execute_result"
    }
   ],
   "source": [
    "df1 = df[['subscribed1','loan1','mortgage1','credit1','call_bin','age_norm','account_norm','age','account_balance','n_contact','l_call_duration','p_outcome','n_p_contact','conntacted_before','p_days','education1','device1','status']]\n",
    "df1.head()"
   ]
  },
  {
   "cell_type": "code",
   "execution_count": 69,
   "metadata": {},
   "outputs": [
    {
     "data": {
      "text/plain": [
       "(30517, 18)"
      ]
     },
     "execution_count": 69,
     "metadata": {},
     "output_type": "execute_result"
    }
   ],
   "source": [
    "df1.shape"
   ]
  },
  {
   "cell_type": "code",
   "execution_count": 70,
   "metadata": {},
   "outputs": [],
   "source": [
    "pca = PCA(n_components = 0.999, svd_solver = 'full') \n",
    "pca.fit(df1, y='subscribed1')\n",
    "df2 = pca.transform(df1)"
   ]
  },
  {
   "cell_type": "code",
   "execution_count": 71,
   "metadata": {},
   "outputs": [
    {
     "data": {
      "text/html": [
       "<div>\n",
       "<style scoped>\n",
       "    .dataframe tbody tr th:only-of-type {\n",
       "        vertical-align: middle;\n",
       "    }\n",
       "\n",
       "    .dataframe tbody tr th {\n",
       "        vertical-align: top;\n",
       "    }\n",
       "\n",
       "    .dataframe thead th {\n",
       "        text-align: right;\n",
       "    }\n",
       "</style>\n",
       "<table border=\"1\" class=\"dataframe\">\n",
       "  <thead>\n",
       "    <tr style=\"text-align: right;\">\n",
       "      <th></th>\n",
       "      <th>0</th>\n",
       "      <th>1</th>\n",
       "      <th>2</th>\n",
       "    </tr>\n",
       "  </thead>\n",
       "  <tbody>\n",
       "    <tr>\n",
       "      <th>0</th>\n",
       "      <td>-928.784619</td>\n",
       "      <td>-57.111224</td>\n",
       "      <td>231.692184</td>\n",
       "    </tr>\n",
       "    <tr>\n",
       "      <th>1</th>\n",
       "      <td>110.468554</td>\n",
       "      <td>88.616875</td>\n",
       "      <td>-41.067340</td>\n",
       "    </tr>\n",
       "    <tr>\n",
       "      <th>2</th>\n",
       "      <td>1602.941802</td>\n",
       "      <td>-169.477987</td>\n",
       "      <td>-42.197769</td>\n",
       "    </tr>\n",
       "    <tr>\n",
       "      <th>3</th>\n",
       "      <td>-699.107403</td>\n",
       "      <td>-186.720302</td>\n",
       "      <td>-41.757034</td>\n",
       "    </tr>\n",
       "    <tr>\n",
       "      <th>4</th>\n",
       "      <td>-2151.113060</td>\n",
       "      <td>-189.726093</td>\n",
       "      <td>-41.509656</td>\n",
       "    </tr>\n",
       "  </tbody>\n",
       "</table>\n",
       "</div>"
      ],
      "text/plain": [
       "             0           1           2\n",
       "0  -928.784619  -57.111224  231.692184\n",
       "1   110.468554   88.616875  -41.067340\n",
       "2  1602.941802 -169.477987  -42.197769\n",
       "3  -699.107403 -186.720302  -41.757034\n",
       "4 -2151.113060 -189.726093  -41.509656"
      ]
     },
     "execution_count": 71,
     "metadata": {},
     "output_type": "execute_result"
    }
   ],
   "source": [
    "df2 = pd.DataFrame(pca.transform(df1))\n",
    "df2.head()"
   ]
  },
  {
   "cell_type": "markdown",
   "metadata": {},
   "source": [
    "* the PCA reduced the demantion from 16 to 3 "
   ]
  },
  {
   "cell_type": "code",
   "execution_count": 72,
   "metadata": {},
   "outputs": [
    {
     "data": {
      "text/plain": [
       "phone call    30517\n",
       "Name: campaign_type, dtype: int64"
      ]
     },
     "execution_count": 72,
     "metadata": {},
     "output_type": "execute_result"
    }
   ],
   "source": [
    "df['campaign_type'].value_counts()"
   ]
  },
  {
   "cell_type": "markdown",
   "metadata": {},
   "source": [
    "* campaingn_type : all the values are the same so no data added in this column"
   ]
  },
  {
   "cell_type": "code",
   "execution_count": 73,
   "metadata": {},
   "outputs": [],
   "source": [
    "df = df.drop(['campaign_type'],axis=1)"
   ]
  },
  {
   "cell_type": "code",
   "execution_count": 74,
   "metadata": {},
   "outputs": [],
   "source": [
    "df[\"account_balance1\"] = df[\"account_balance\"].apply(lambda x: 1 if x >= 1  else  0)"
   ]
  },
  {
   "cell_type": "code",
   "execution_count": 75,
   "metadata": {},
   "outputs": [
    {
     "data": {
      "text/plain": [
       "1    28059\n",
       "0     2458\n",
       "Name: account_balance1, dtype: int64"
      ]
     },
     "execution_count": 75,
     "metadata": {},
     "output_type": "execute_result"
    }
   ],
   "source": [
    "df['account_balance1'].value_counts()"
   ]
  },
  {
   "cell_type": "code",
   "execution_count": 76,
   "metadata": {},
   "outputs": [],
   "source": [
    "df = df.drop(['account_balance1'],axis=1)"
   ]
  },
  {
   "cell_type": "code",
   "execution_count": 77,
   "metadata": {},
   "outputs": [
    {
     "data": {
      "text/plain": [
       "True     28059\n",
       "False     2458\n",
       "Name: positive, dtype: int64"
      ]
     },
     "execution_count": 77,
     "metadata": {},
     "output_type": "execute_result"
    }
   ],
   "source": [
    "df['positive'].value_counts()"
   ]
  },
  {
   "cell_type": "markdown",
   "metadata": {},
   "source": [
    "* we see a strong connection between positive and account balance <br>\n",
    "  account balance is the averege yearly and the positive is if the account has positive balance right now, we see that someone who had good balance in yearly averege also has positive account balance right now. \n",
    "  \n",
    "* we can maybe reduce the \"positive\" column because the information is already appears in \"account balance\"  "
   ]
  },
  {
   "cell_type": "code",
   "execution_count": 78,
   "metadata": {},
   "outputs": [],
   "source": [
    "df = df.drop(['positive'],axis=1)"
   ]
  },
  {
   "cell_type": "markdown",
   "metadata": {},
   "source": [
    "* we can drop the consent because it has the same values as subscribe "
   ]
  },
  {
   "cell_type": "code",
   "execution_count": 79,
   "metadata": {},
   "outputs": [],
   "source": [
    "df = df.drop(['consent'],axis=1)"
   ]
  },
  {
   "cell_type": "markdown",
   "metadata": {},
   "source": [
    "* we'll drop all the bool values we changed to 0 and 1 and education, n_child,p_days,device,l_call_duration we changed "
   ]
  },
  {
   "cell_type": "code",
   "execution_count": 80,
   "metadata": {},
   "outputs": [],
   "source": [
    "df = df.drop(['loan'],axis=1)\n",
    "df = df.drop(['mortgage'],axis=1)\n",
    "df = df.drop(['credit'],axis=1)\n",
    "df = df.drop(['subscribed'],axis=1)\n",
    "df = df.drop(['education'],axis=1)\n",
    "df = df.drop(['n_child'],axis=1)\n",
    "df = df.drop(['p_days'],axis=1)\n",
    "df = df.drop(['l_call_duration'],axis=1)\n",
    "df = df.drop(['device'],axis=1)"
   ]
  },
  {
   "cell_type": "code",
   "execution_count": 81,
   "metadata": {},
   "outputs": [
    {
     "data": {
      "text/html": [
       "<div>\n",
       "<style scoped>\n",
       "    .dataframe tbody tr th:only-of-type {\n",
       "        vertical-align: middle;\n",
       "    }\n",
       "\n",
       "    .dataframe tbody tr th {\n",
       "        vertical-align: top;\n",
       "    }\n",
       "\n",
       "    .dataframe thead th {\n",
       "        text-align: right;\n",
       "    }\n",
       "</style>\n",
       "<table border=\"1\" class=\"dataframe\">\n",
       "  <thead>\n",
       "    <tr style=\"text-align: right;\">\n",
       "      <th></th>\n",
       "      <th>status</th>\n",
       "      <th>age</th>\n",
       "      <th>profession</th>\n",
       "      <th>account_balance</th>\n",
       "      <th>n_contact</th>\n",
       "      <th>l_date</th>\n",
       "      <th>p_outcome</th>\n",
       "      <th>n_p_contact</th>\n",
       "      <th>education1</th>\n",
       "      <th>profession1</th>\n",
       "      <th>device1</th>\n",
       "      <th>conntacted_before</th>\n",
       "      <th>n_child1</th>\n",
       "      <th>call_bin</th>\n",
       "      <th>age_norm</th>\n",
       "      <th>account_norm</th>\n",
       "      <th>subscribed1</th>\n",
       "      <th>loan1</th>\n",
       "      <th>mortgage1</th>\n",
       "      <th>credit1</th>\n",
       "    </tr>\n",
       "    <tr>\n",
       "      <th>id</th>\n",
       "      <th></th>\n",
       "      <th></th>\n",
       "      <th></th>\n",
       "      <th></th>\n",
       "      <th></th>\n",
       "      <th></th>\n",
       "      <th></th>\n",
       "      <th></th>\n",
       "      <th></th>\n",
       "      <th></th>\n",
       "      <th></th>\n",
       "      <th></th>\n",
       "      <th></th>\n",
       "      <th></th>\n",
       "      <th></th>\n",
       "      <th></th>\n",
       "      <th></th>\n",
       "      <th></th>\n",
       "      <th></th>\n",
       "      <th></th>\n",
       "    </tr>\n",
       "  </thead>\n",
       "  <tbody>\n",
       "    <tr>\n",
       "      <th>512491</th>\n",
       "      <td>2</td>\n",
       "      <td>32</td>\n",
       "      <td>student</td>\n",
       "      <td>300</td>\n",
       "      <td>2</td>\n",
       "      <td>04-Feb</td>\n",
       "      <td>0</td>\n",
       "      <td>1</td>\n",
       "      <td>3.0</td>\n",
       "      <td>student</td>\n",
       "      <td>1</td>\n",
       "      <td>1</td>\n",
       "      <td>-1.0</td>\n",
       "      <td>2.0</td>\n",
       "      <td>-0.837848</td>\n",
       "      <td>-0.339147</td>\n",
       "      <td>0</td>\n",
       "      <td>0</td>\n",
       "      <td>1</td>\n",
       "      <td>0</td>\n",
       "    </tr>\n",
       "    <tr>\n",
       "      <th>495633</th>\n",
       "      <td>2</td>\n",
       "      <td>45</td>\n",
       "      <td>scientist</td>\n",
       "      <td>1339</td>\n",
       "      <td>1</td>\n",
       "      <td>08-Jul</td>\n",
       "      <td>-1</td>\n",
       "      <td>0</td>\n",
       "      <td>2.0</td>\n",
       "      <td>scientist</td>\n",
       "      <td>1</td>\n",
       "      <td>0</td>\n",
       "      <td>1.0</td>\n",
       "      <td>4.0</td>\n",
       "      <td>0.389623</td>\n",
       "      <td>0.040277</td>\n",
       "      <td>0</td>\n",
       "      <td>0</td>\n",
       "      <td>1</td>\n",
       "      <td>0</td>\n",
       "    </tr>\n",
       "    <tr>\n",
       "      <th>507946</th>\n",
       "      <td>2</td>\n",
       "      <td>54</td>\n",
       "      <td>technician</td>\n",
       "      <td>2832</td>\n",
       "      <td>1</td>\n",
       "      <td>19-Nov</td>\n",
       "      <td>-1</td>\n",
       "      <td>0</td>\n",
       "      <td>2.0</td>\n",
       "      <td>technician</td>\n",
       "      <td>0</td>\n",
       "      <td>0</td>\n",
       "      <td>2.0</td>\n",
       "      <td>1.0</td>\n",
       "      <td>1.239411</td>\n",
       "      <td>0.585492</td>\n",
       "      <td>0</td>\n",
       "      <td>0</td>\n",
       "      <td>1</td>\n",
       "      <td>0</td>\n",
       "    </tr>\n",
       "    <tr>\n",
       "      <th>491165</th>\n",
       "      <td>2</td>\n",
       "      <td>30</td>\n",
       "      <td>engineer</td>\n",
       "      <td>530</td>\n",
       "      <td>1</td>\n",
       "      <td>04-Jun</td>\n",
       "      <td>-1</td>\n",
       "      <td>0</td>\n",
       "      <td>2.0</td>\n",
       "      <td>engineer</td>\n",
       "      <td>1</td>\n",
       "      <td>0</td>\n",
       "      <td>-1.0</td>\n",
       "      <td>0.0</td>\n",
       "      <td>-1.026689</td>\n",
       "      <td>-0.255155</td>\n",
       "      <td>0</td>\n",
       "      <td>1</td>\n",
       "      <td>1</td>\n",
       "      <td>0</td>\n",
       "    </tr>\n",
       "    <tr>\n",
       "      <th>494627</th>\n",
       "      <td>2</td>\n",
       "      <td>40</td>\n",
       "      <td>manager</td>\n",
       "      <td>-922</td>\n",
       "      <td>2</td>\n",
       "      <td>23-Jun</td>\n",
       "      <td>-1</td>\n",
       "      <td>0</td>\n",
       "      <td>3.0</td>\n",
       "      <td>manager</td>\n",
       "      <td>1</td>\n",
       "      <td>0</td>\n",
       "      <td>-1.0</td>\n",
       "      <td>0.0</td>\n",
       "      <td>-0.082481</td>\n",
       "      <td>-0.785398</td>\n",
       "      <td>0</td>\n",
       "      <td>1</td>\n",
       "      <td>1</td>\n",
       "      <td>1</td>\n",
       "    </tr>\n",
       "  </tbody>\n",
       "</table>\n",
       "</div>"
      ],
      "text/plain": [
       "        status  age  profession  account_balance  n_contact  l_date  \\\n",
       "id                                                                    \n",
       "512491       2   32     student              300          2  04-Feb   \n",
       "495633       2   45   scientist             1339          1  08-Jul   \n",
       "507946       2   54  technician             2832          1  19-Nov   \n",
       "491165       2   30    engineer              530          1  04-Jun   \n",
       "494627       2   40     manager             -922          2  23-Jun   \n",
       "\n",
       "        p_outcome  n_p_contact  education1 profession1  device1  \\\n",
       "id                                                                \n",
       "512491          0            1         3.0     student        1   \n",
       "495633         -1            0         2.0   scientist        1   \n",
       "507946         -1            0         2.0  technician        0   \n",
       "491165         -1            0         2.0    engineer        1   \n",
       "494627         -1            0         3.0     manager        1   \n",
       "\n",
       "        conntacted_before  n_child1  call_bin  age_norm  account_norm  \\\n",
       "id                                                                      \n",
       "512491                  1      -1.0       2.0 -0.837848     -0.339147   \n",
       "495633                  0       1.0       4.0  0.389623      0.040277   \n",
       "507946                  0       2.0       1.0  1.239411      0.585492   \n",
       "491165                  0      -1.0       0.0 -1.026689     -0.255155   \n",
       "494627                  0      -1.0       0.0 -0.082481     -0.785398   \n",
       "\n",
       "        subscribed1  loan1  mortgage1  credit1  \n",
       "id                                              \n",
       "512491            0      0          1        0  \n",
       "495633            0      0          1        0  \n",
       "507946            0      0          1        0  \n",
       "491165            0      1          1        0  \n",
       "494627            0      1          1        1  "
      ]
     },
     "execution_count": 81,
     "metadata": {},
     "output_type": "execute_result"
    }
   ],
   "source": [
    "df.head()"
   ]
  },
  {
   "cell_type": "markdown",
   "metadata": {},
   "source": [
    "### PART - 2 \n",
    "starts here"
   ]
  },
  {
   "cell_type": "code",
   "execution_count": 82,
   "metadata": {},
   "outputs": [
    {
     "name": "stdout",
     "output_type": "stream",
     "text": [
      "<class 'pandas.core.frame.DataFrame'>\n",
      "Int64Index: 30517 entries, 512491 to 516748\n",
      "Data columns (total 20 columns):\n",
      " #   Column             Non-Null Count  Dtype  \n",
      "---  ------             --------------  -----  \n",
      " 0   status             30517 non-null  int64  \n",
      " 1   age                30517 non-null  int64  \n",
      " 2   profession         30517 non-null  object \n",
      " 3   account_balance    30517 non-null  int64  \n",
      " 4   n_contact          30517 non-null  int64  \n",
      " 5   l_date             30517 non-null  object \n",
      " 6   p_outcome          30517 non-null  int64  \n",
      " 7   n_p_contact        30517 non-null  int64  \n",
      " 8   education1         30517 non-null  float64\n",
      " 9   profession1        30517 non-null  object \n",
      " 10  device1            30517 non-null  int64  \n",
      " 11  conntacted_before  30517 non-null  int64  \n",
      " 12  n_child1           30517 non-null  float64\n",
      " 13  call_bin           30517 non-null  float64\n",
      " 14  age_norm           30517 non-null  float64\n",
      " 15  account_norm       30517 non-null  float64\n",
      " 16  subscribed1        30517 non-null  int64  \n",
      " 17  loan1              30517 non-null  int64  \n",
      " 18  mortgage1          30517 non-null  int64  \n",
      " 19  credit1            30517 non-null  int64  \n",
      "dtypes: float64(5), int64(12), object(3)\n",
      "memory usage: 6.1+ MB\n"
     ]
    }
   ],
   "source": [
    "df.info()"
   ]
  },
  {
   "cell_type": "code",
   "execution_count": 83,
   "metadata": {},
   "outputs": [],
   "source": [
    "df = df.drop(['profession','account_balance','l_date','age'],axis=1)"
   ]
  },
  {
   "cell_type": "markdown",
   "metadata": {},
   "source": [
    "dropping data from :\n",
    "* proffession that we have in proffesion1 \n",
    "* age we normalaized so we'll use that \n",
    "* account balance with the same reason\n",
    "* l_data is not usefull because it doesnt include year "
   ]
  },
  {
   "cell_type": "markdown",
   "metadata": {},
   "source": [
    "We still have one category type that remines object : profession1 <br>\n",
    "Let's make it nominal for the cross-validation process"
   ]
  },
  {
   "cell_type": "code",
   "execution_count": 84,
   "metadata": {},
   "outputs": [
    {
     "data": {
      "text/plain": [
       "engineer         6702\n",
       "manager          6487\n",
       "scientist        5138\n",
       "technician       3503\n",
       "teacher          2759\n",
       "accountant       1491\n",
       "student          1096\n",
       "retired           988\n",
       "self-employed     882\n",
       "architect         833\n",
       "unemployed        638\n",
       "Name: profession1, dtype: int64"
      ]
     },
     "execution_count": 84,
     "metadata": {},
     "output_type": "execute_result"
    }
   ],
   "source": [
    "df['profession1'].value_counts()"
   ]
  },
  {
   "cell_type": "code",
   "execution_count": 85,
   "metadata": {},
   "outputs": [],
   "source": [
    "df['profession1']=df['profession1'].replace(['engineer','manager','scientist','technician','teacher','accountant','student','retired','self-employed','architect','unemployed'],[10,9,8,7,6,5,4,3,2,1,0])"
   ]
  },
  {
   "cell_type": "code",
   "execution_count": 86,
   "metadata": {},
   "outputs": [
    {
     "data": {
      "text/plain": [
       "10    6702\n",
       "9     6487\n",
       "8     5138\n",
       "7     3503\n",
       "6     2759\n",
       "5     1491\n",
       "4     1096\n",
       "3      988\n",
       "2      882\n",
       "1      833\n",
       "0      638\n",
       "Name: profession1, dtype: int64"
      ]
     },
     "execution_count": 86,
     "metadata": {},
     "output_type": "execute_result"
    }
   ],
   "source": [
    "df['profession1'].value_counts()"
   ]
  },
  {
   "cell_type": "markdown",
   "metadata": {},
   "source": [
    "dropping the id column because it's an individual number that doesn't give us information that could help us predict if the person will do insurance  "
   ]
  },
  {
   "cell_type": "code",
   "execution_count": 87,
   "metadata": {},
   "outputs": [],
   "source": [
    "df = df.reset_index(drop=True)"
   ]
  },
  {
   "cell_type": "code",
   "execution_count": 88,
   "metadata": {},
   "outputs": [
    {
     "data": {
      "text/html": [
       "<div>\n",
       "<style scoped>\n",
       "    .dataframe tbody tr th:only-of-type {\n",
       "        vertical-align: middle;\n",
       "    }\n",
       "\n",
       "    .dataframe tbody tr th {\n",
       "        vertical-align: top;\n",
       "    }\n",
       "\n",
       "    .dataframe thead th {\n",
       "        text-align: right;\n",
       "    }\n",
       "</style>\n",
       "<table border=\"1\" class=\"dataframe\">\n",
       "  <thead>\n",
       "    <tr style=\"text-align: right;\">\n",
       "      <th></th>\n",
       "      <th>status</th>\n",
       "      <th>n_contact</th>\n",
       "      <th>p_outcome</th>\n",
       "      <th>n_p_contact</th>\n",
       "      <th>education1</th>\n",
       "      <th>profession1</th>\n",
       "      <th>device1</th>\n",
       "      <th>conntacted_before</th>\n",
       "      <th>n_child1</th>\n",
       "      <th>call_bin</th>\n",
       "      <th>age_norm</th>\n",
       "      <th>account_norm</th>\n",
       "      <th>subscribed1</th>\n",
       "      <th>loan1</th>\n",
       "      <th>mortgage1</th>\n",
       "      <th>credit1</th>\n",
       "    </tr>\n",
       "  </thead>\n",
       "  <tbody>\n",
       "    <tr>\n",
       "      <th>0</th>\n",
       "      <td>2</td>\n",
       "      <td>2</td>\n",
       "      <td>0</td>\n",
       "      <td>1</td>\n",
       "      <td>3.0</td>\n",
       "      <td>4</td>\n",
       "      <td>1</td>\n",
       "      <td>1</td>\n",
       "      <td>-1.0</td>\n",
       "      <td>2.0</td>\n",
       "      <td>-0.837848</td>\n",
       "      <td>-0.339147</td>\n",
       "      <td>0</td>\n",
       "      <td>0</td>\n",
       "      <td>1</td>\n",
       "      <td>0</td>\n",
       "    </tr>\n",
       "    <tr>\n",
       "      <th>1</th>\n",
       "      <td>2</td>\n",
       "      <td>1</td>\n",
       "      <td>-1</td>\n",
       "      <td>0</td>\n",
       "      <td>2.0</td>\n",
       "      <td>8</td>\n",
       "      <td>1</td>\n",
       "      <td>0</td>\n",
       "      <td>1.0</td>\n",
       "      <td>4.0</td>\n",
       "      <td>0.389623</td>\n",
       "      <td>0.040277</td>\n",
       "      <td>0</td>\n",
       "      <td>0</td>\n",
       "      <td>1</td>\n",
       "      <td>0</td>\n",
       "    </tr>\n",
       "    <tr>\n",
       "      <th>2</th>\n",
       "      <td>2</td>\n",
       "      <td>1</td>\n",
       "      <td>-1</td>\n",
       "      <td>0</td>\n",
       "      <td>2.0</td>\n",
       "      <td>7</td>\n",
       "      <td>0</td>\n",
       "      <td>0</td>\n",
       "      <td>2.0</td>\n",
       "      <td>1.0</td>\n",
       "      <td>1.239411</td>\n",
       "      <td>0.585492</td>\n",
       "      <td>0</td>\n",
       "      <td>0</td>\n",
       "      <td>1</td>\n",
       "      <td>0</td>\n",
       "    </tr>\n",
       "    <tr>\n",
       "      <th>3</th>\n",
       "      <td>2</td>\n",
       "      <td>1</td>\n",
       "      <td>-1</td>\n",
       "      <td>0</td>\n",
       "      <td>2.0</td>\n",
       "      <td>10</td>\n",
       "      <td>1</td>\n",
       "      <td>0</td>\n",
       "      <td>-1.0</td>\n",
       "      <td>0.0</td>\n",
       "      <td>-1.026689</td>\n",
       "      <td>-0.255155</td>\n",
       "      <td>0</td>\n",
       "      <td>1</td>\n",
       "      <td>1</td>\n",
       "      <td>0</td>\n",
       "    </tr>\n",
       "    <tr>\n",
       "      <th>4</th>\n",
       "      <td>2</td>\n",
       "      <td>2</td>\n",
       "      <td>-1</td>\n",
       "      <td>0</td>\n",
       "      <td>3.0</td>\n",
       "      <td>9</td>\n",
       "      <td>1</td>\n",
       "      <td>0</td>\n",
       "      <td>-1.0</td>\n",
       "      <td>0.0</td>\n",
       "      <td>-0.082481</td>\n",
       "      <td>-0.785398</td>\n",
       "      <td>0</td>\n",
       "      <td>1</td>\n",
       "      <td>1</td>\n",
       "      <td>1</td>\n",
       "    </tr>\n",
       "  </tbody>\n",
       "</table>\n",
       "</div>"
      ],
      "text/plain": [
       "   status  n_contact  p_outcome  n_p_contact  education1  profession1  \\\n",
       "0       2          2          0            1         3.0            4   \n",
       "1       2          1         -1            0         2.0            8   \n",
       "2       2          1         -1            0         2.0            7   \n",
       "3       2          1         -1            0         2.0           10   \n",
       "4       2          2         -1            0         3.0            9   \n",
       "\n",
       "   device1  conntacted_before  n_child1  call_bin  age_norm  account_norm  \\\n",
       "0        1                  1      -1.0       2.0 -0.837848     -0.339147   \n",
       "1        1                  0       1.0       4.0  0.389623      0.040277   \n",
       "2        0                  0       2.0       1.0  1.239411      0.585492   \n",
       "3        1                  0      -1.0       0.0 -1.026689     -0.255155   \n",
       "4        1                  0      -1.0       0.0 -0.082481     -0.785398   \n",
       "\n",
       "   subscribed1  loan1  mortgage1  credit1  \n",
       "0            0      0          1        0  \n",
       "1            0      0          1        0  \n",
       "2            0      0          1        0  \n",
       "3            0      1          1        0  \n",
       "4            0      1          1        1  "
      ]
     },
     "execution_count": 88,
     "metadata": {},
     "output_type": "execute_result"
    }
   ],
   "source": [
    "df.head()"
   ]
  },
  {
   "cell_type": "code",
   "execution_count": 89,
   "metadata": {
    "scrolled": true
   },
   "outputs": [],
   "source": [
    "df.to_csv('marketing_campaigns_train_after_PRE.csv')"
   ]
  },
  {
   "cell_type": "code",
   "execution_count": 90,
   "metadata": {},
   "outputs": [
    {
     "name": "stdout",
     "output_type": "stream",
     "text": [
      "<class 'pandas.core.frame.DataFrame'>\n",
      "RangeIndex: 30517 entries, 0 to 30516\n",
      "Data columns (total 16 columns):\n",
      " #   Column             Non-Null Count  Dtype  \n",
      "---  ------             --------------  -----  \n",
      " 0   status             30517 non-null  int64  \n",
      " 1   n_contact          30517 non-null  int64  \n",
      " 2   p_outcome          30517 non-null  int64  \n",
      " 3   n_p_contact        30517 non-null  int64  \n",
      " 4   education1         30517 non-null  float64\n",
      " 5   profession1        30517 non-null  int64  \n",
      " 6   device1            30517 non-null  int64  \n",
      " 7   conntacted_before  30517 non-null  int64  \n",
      " 8   n_child1           30517 non-null  float64\n",
      " 9   call_bin           30517 non-null  float64\n",
      " 10  age_norm           30517 non-null  float64\n",
      " 11  account_norm       30517 non-null  float64\n",
      " 12  subscribed1        30517 non-null  int64  \n",
      " 13  loan1              30517 non-null  int64  \n",
      " 14  mortgage1          30517 non-null  int64  \n",
      " 15  credit1            30517 non-null  int64  \n",
      "dtypes: float64(5), int64(11)\n",
      "memory usage: 3.7 MB\n"
     ]
    }
   ],
   "source": [
    "df.info()"
   ]
  }
 ],
 "metadata": {
  "kernelspec": {
   "display_name": "Python 3",
   "language": "python",
   "name": "python3"
  },
  "language_info": {
   "codemirror_mode": {
    "name": "ipython",
    "version": 3
   },
   "file_extension": ".py",
   "mimetype": "text/x-python",
   "name": "python",
   "nbconvert_exporter": "python",
   "pygments_lexer": "ipython3",
   "version": "3.8.5"
  }
 },
 "nbformat": 4,
 "nbformat_minor": 4
}
