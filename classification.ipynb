{
 "cells": [
  {
   "cell_type": "markdown",
   "metadata": {},
   "source": [
    "# PART 2 "
   ]
  },
  {
   "cell_type": "markdown",
   "metadata": {},
   "source": [
    "## Jessica Llanos 327083184 Rita Kaplan 321775579"
   ]
  },
  {
   "cell_type": "markdown",
   "metadata": {},
   "source": [
    "we start with preproccesing the test data same way we did in train "
   ]
  },
  {
   "cell_type": "code",
   "execution_count": 1,
   "metadata": {},
   "outputs": [],
   "source": [
    "import math\n",
    "import numpy as np\n",
    "import pandas as pd\n",
    "import seaborn as sns\n",
    "import matplotlib.pyplot as plt\n",
    "import scipy\n",
    "from sklearn.preprocessing import MinMaxScaler\n",
    "from sklearn.preprocessing import StandardScaler\n",
    "from sklearn.decomposition import PCA"
   ]
  },
  {
   "cell_type": "code",
   "execution_count": 2,
   "metadata": {},
   "outputs": [],
   "source": [
    "sns.set(color_codes=True) # settings for seaborn plotting style\n",
    "sns.set(rc={'figure.figsize':(10,10)}) # settings for seaborn plot sizes"
   ]
  },
  {
   "cell_type": "code",
   "execution_count": 3,
   "metadata": {},
   "outputs": [],
   "source": [
    "df = pd.read_csv(r\"./marketing_campaigns_test.csv\", index_col= 0)"
   ]
  },
  {
   "cell_type": "code",
   "execution_count": 4,
   "metadata": {},
   "outputs": [
    {
     "name": "stdout",
     "output_type": "stream",
     "text": [
      "Shape:  (14694, 18)\n"
     ]
    },
    {
     "data": {
      "text/html": [
       "<div>\n",
       "<style scoped>\n",
       "    .dataframe tbody tr th:only-of-type {\n",
       "        vertical-align: middle;\n",
       "    }\n",
       "\n",
       "    .dataframe tbody tr th {\n",
       "        vertical-align: top;\n",
       "    }\n",
       "\n",
       "    .dataframe thead th {\n",
       "        text-align: right;\n",
       "    }\n",
       "</style>\n",
       "<table border=\"1\" class=\"dataframe\">\n",
       "  <thead>\n",
       "    <tr style=\"text-align: right;\">\n",
       "      <th></th>\n",
       "      <th>status</th>\n",
       "      <th>age</th>\n",
       "      <th>n_child</th>\n",
       "      <th>education</th>\n",
       "      <th>profession</th>\n",
       "      <th>device</th>\n",
       "      <th>account_balance</th>\n",
       "      <th>loan</th>\n",
       "      <th>mortgage</th>\n",
       "      <th>credit</th>\n",
       "      <th>positive</th>\n",
       "      <th>campaign_type</th>\n",
       "      <th>n_contact</th>\n",
       "      <th>l_date</th>\n",
       "      <th>l_call_duration</th>\n",
       "      <th>p_outcome</th>\n",
       "      <th>n_p_contact</th>\n",
       "      <th>p_days</th>\n",
       "    </tr>\n",
       "    <tr>\n",
       "      <th>id</th>\n",
       "      <th></th>\n",
       "      <th></th>\n",
       "      <th></th>\n",
       "      <th></th>\n",
       "      <th></th>\n",
       "      <th></th>\n",
       "      <th></th>\n",
       "      <th></th>\n",
       "      <th></th>\n",
       "      <th></th>\n",
       "      <th></th>\n",
       "      <th></th>\n",
       "      <th></th>\n",
       "      <th></th>\n",
       "      <th></th>\n",
       "      <th></th>\n",
       "      <th></th>\n",
       "      <th></th>\n",
       "    </tr>\n",
       "  </thead>\n",
       "  <tbody>\n",
       "    <tr>\n",
       "      <th>512496</th>\n",
       "      <td>divorced</td>\n",
       "      <td>37</td>\n",
       "      <td>unknown</td>\n",
       "      <td>master</td>\n",
       "      <td>scientist</td>\n",
       "      <td>cellular</td>\n",
       "      <td>-12</td>\n",
       "      <td>False</td>\n",
       "      <td>True</td>\n",
       "      <td>False</td>\n",
       "      <td>False</td>\n",
       "      <td>phone call</td>\n",
       "      <td>2</td>\n",
       "      <td>04-Feb</td>\n",
       "      <td>32</td>\n",
       "      <td>unknown</td>\n",
       "      <td>0</td>\n",
       "      <td>-1</td>\n",
       "    </tr>\n",
       "    <tr>\n",
       "      <th>488528</th>\n",
       "      <td>married</td>\n",
       "      <td>46</td>\n",
       "      <td>unknown</td>\n",
       "      <td>bachelor</td>\n",
       "      <td>manager</td>\n",
       "      <td>unknown</td>\n",
       "      <td>-231</td>\n",
       "      <td>False</td>\n",
       "      <td>True</td>\n",
       "      <td>False</td>\n",
       "      <td>False</td>\n",
       "      <td>phone call</td>\n",
       "      <td>1</td>\n",
       "      <td>27-May</td>\n",
       "      <td>91</td>\n",
       "      <td>unknown</td>\n",
       "      <td>0</td>\n",
       "      <td>-1</td>\n",
       "    </tr>\n",
       "    <tr>\n",
       "      <th>499524</th>\n",
       "      <td>single</td>\n",
       "      <td>29</td>\n",
       "      <td>unknown</td>\n",
       "      <td>doctoral</td>\n",
       "      <td>manager</td>\n",
       "      <td>cellular</td>\n",
       "      <td>1867</td>\n",
       "      <td>False</td>\n",
       "      <td>False</td>\n",
       "      <td>False</td>\n",
       "      <td>True</td>\n",
       "      <td>phone call</td>\n",
       "      <td>3</td>\n",
       "      <td>28-Jul</td>\n",
       "      <td>42</td>\n",
       "      <td>unknown</td>\n",
       "      <td>0</td>\n",
       "      <td>-1</td>\n",
       "    </tr>\n",
       "    <tr>\n",
       "      <th>506539</th>\n",
       "      <td>married</td>\n",
       "      <td>46</td>\n",
       "      <td>unknown</td>\n",
       "      <td>unknown</td>\n",
       "      <td>unknown</td>\n",
       "      <td>unknown</td>\n",
       "      <td>619</td>\n",
       "      <td>False</td>\n",
       "      <td>False</td>\n",
       "      <td>False</td>\n",
       "      <td>True</td>\n",
       "      <td>phone call</td>\n",
       "      <td>1</td>\n",
       "      <td>13-Nov</td>\n",
       "      <td>652</td>\n",
       "      <td>unknown</td>\n",
       "      <td>0</td>\n",
       "      <td>-1</td>\n",
       "    </tr>\n",
       "    <tr>\n",
       "      <th>515863</th>\n",
       "      <td>married</td>\n",
       "      <td>31</td>\n",
       "      <td>unknown</td>\n",
       "      <td>doctoral</td>\n",
       "      <td>manager</td>\n",
       "      <td>cellular</td>\n",
       "      <td>-202</td>\n",
       "      <td>False</td>\n",
       "      <td>True</td>\n",
       "      <td>False</td>\n",
       "      <td>False</td>\n",
       "      <td>phone call</td>\n",
       "      <td>2</td>\n",
       "      <td>20-Apr</td>\n",
       "      <td>493</td>\n",
       "      <td>unknown</td>\n",
       "      <td>0</td>\n",
       "      <td>-1</td>\n",
       "    </tr>\n",
       "  </tbody>\n",
       "</table>\n",
       "</div>"
      ],
      "text/plain": [
       "          status  age  n_child education profession    device  \\\n",
       "id                                                              \n",
       "512496  divorced   37  unknown    master  scientist  cellular   \n",
       "488528   married   46  unknown  bachelor    manager   unknown   \n",
       "499524    single   29  unknown  doctoral    manager  cellular   \n",
       "506539   married   46  unknown   unknown    unknown   unknown   \n",
       "515863   married   31  unknown  doctoral    manager  cellular   \n",
       "\n",
       "        account_balance   loan  mortgage  credit  positive campaign_type  \\\n",
       "id                                                                         \n",
       "512496              -12  False      True   False     False    phone call   \n",
       "488528             -231  False      True   False     False    phone call   \n",
       "499524             1867  False     False   False      True    phone call   \n",
       "506539              619  False     False   False      True    phone call   \n",
       "515863             -202  False      True   False     False    phone call   \n",
       "\n",
       "        n_contact  l_date  l_call_duration p_outcome  n_p_contact  p_days  \n",
       "id                                                                         \n",
       "512496          2  04-Feb               32   unknown            0      -1  \n",
       "488528          1  27-May               91   unknown            0      -1  \n",
       "499524          3  28-Jul               42   unknown            0      -1  \n",
       "506539          1  13-Nov              652   unknown            0      -1  \n",
       "515863          2  20-Apr              493   unknown            0      -1  "
      ]
     },
     "execution_count": 4,
     "metadata": {},
     "output_type": "execute_result"
    }
   ],
   "source": [
    "print(\"Shape: \", df.shape)\n",
    "df.head()"
   ]
  },
  {
   "cell_type": "code",
   "execution_count": 5,
   "metadata": {},
   "outputs": [],
   "source": [
    "df = df.reset_index(drop=True)"
   ]
  },
  {
   "cell_type": "code",
   "execution_count": 6,
   "metadata": {},
   "outputs": [
    {
     "name": "stdout",
     "output_type": "stream",
     "text": [
      "<class 'pandas.core.frame.DataFrame'>\n",
      "RangeIndex: 14694 entries, 0 to 14693\n",
      "Data columns (total 18 columns):\n",
      " #   Column           Non-Null Count  Dtype \n",
      "---  ------           --------------  ----- \n",
      " 0   status           14694 non-null  object\n",
      " 1   age              14694 non-null  int64 \n",
      " 2   n_child          14694 non-null  object\n",
      " 3   education        14694 non-null  object\n",
      " 4   profession       14694 non-null  object\n",
      " 5   device           14694 non-null  object\n",
      " 6   account_balance  14694 non-null  int64 \n",
      " 7   loan             14694 non-null  bool  \n",
      " 8   mortgage         14694 non-null  bool  \n",
      " 9   credit           14694 non-null  bool  \n",
      " 10  positive         14694 non-null  bool  \n",
      " 11  campaign_type    14694 non-null  object\n",
      " 12  n_contact        14694 non-null  int64 \n",
      " 13  l_date           14694 non-null  object\n",
      " 14  l_call_duration  14694 non-null  int64 \n",
      " 15  p_outcome        14694 non-null  object\n",
      " 16  n_p_contact      14694 non-null  int64 \n",
      " 17  p_days           14694 non-null  int64 \n",
      "dtypes: bool(4), int64(6), object(8)\n",
      "memory usage: 1.6+ MB\n"
     ]
    }
   ],
   "source": [
    "df.info()"
   ]
  },
  {
   "cell_type": "markdown",
   "metadata": {},
   "source": [
    "same columns of data with out consent and subscribed ofcourse"
   ]
  },
  {
   "cell_type": "markdown",
   "metadata": {},
   "source": [
    "### missing values fill :"
   ]
  },
  {
   "cell_type": "markdown",
   "metadata": {},
   "source": [
    "### education : "
   ]
  },
  {
   "cell_type": "code",
   "execution_count": 7,
   "metadata": {},
   "outputs": [
    {
     "data": {
      "text/plain": [
       "master      7580\n",
       "doctoral    4240\n",
       "bachelor    2261\n",
       "unknown      613\n",
       "Name: education, dtype: int64"
      ]
     },
     "execution_count": 7,
     "metadata": {},
     "output_type": "execute_result"
    }
   ],
   "source": [
    "df['education'].value_counts()"
   ]
  },
  {
   "cell_type": "code",
   "execution_count": 8,
   "metadata": {},
   "outputs": [],
   "source": [
    "df[\"education1\"]=df[\"education\"]"
   ]
  },
  {
   "cell_type": "code",
   "execution_count": 9,
   "metadata": {},
   "outputs": [],
   "source": [
    "df[\"education1\"] = df[\"education1\"].replace(to_replace=\"bachelor\",value= int(1))\n",
    "df[\"education1\"] = df[\"education1\"].replace(to_replace=\"master\", value=int(2))\n",
    "df[\"education1\"] = df[\"education1\"].replace(to_replace=\"doctoral\", value=int(3))\n",
    "df[\"education1\"] = df[\"education1\"].replace(to_replace=\"unknown\",value= np.nan)"
   ]
  },
  {
   "cell_type": "code",
   "execution_count": 10,
   "metadata": {},
   "outputs": [],
   "source": [
    "for i in df['profession'].unique():\n",
    "    df.loc[df['profession']==i , 'education1'] = df['education1'][df['profession']==i].fillna(value=df['education1'][df['profession']==i].median())"
   ]
  },
  {
   "cell_type": "code",
   "execution_count": 11,
   "metadata": {},
   "outputs": [
    {
     "data": {
      "text/plain": [
       "2.0    8082\n",
       "3.0    4331\n",
       "1.0    2281\n",
       "Name: education1, dtype: int64"
      ]
     },
     "execution_count": 11,
     "metadata": {},
     "output_type": "execute_result"
    }
   ],
   "source": [
    "df['education1'].value_counts()"
   ]
  },
  {
   "cell_type": "markdown",
   "metadata": {},
   "source": [
    "### Profession"
   ]
  },
  {
   "cell_type": "code",
   "execution_count": 12,
   "metadata": {},
   "outputs": [
    {
     "data": {
      "text/plain": [
       "engineer         3194\n",
       "manager          3000\n",
       "scientist        2459\n",
       "technician       1668\n",
       "teacher          1395\n",
       "accountant        773\n",
       "retired           499\n",
       "student           483\n",
       "self-employed     421\n",
       "architect         407\n",
       "unemployed        300\n",
       "unknown            95\n",
       "Name: profession, dtype: int64"
      ]
     },
     "execution_count": 12,
     "metadata": {},
     "output_type": "execute_result"
    }
   ],
   "source": [
    "df['profession'].value_counts()"
   ]
  },
  {
   "cell_type": "code",
   "execution_count": 13,
   "metadata": {},
   "outputs": [],
   "source": [
    "df['profession1'] = df['profession']"
   ]
  },
  {
   "cell_type": "code",
   "execution_count": 14,
   "metadata": {},
   "outputs": [],
   "source": [
    "df['profession1'] =df['profession1'].replace(\"unknown\",np.nan)"
   ]
  },
  {
   "cell_type": "code",
   "execution_count": 15,
   "metadata": {},
   "outputs": [
    {
     "data": {
      "text/plain": [
       "count         2260\n",
       "unique          11\n",
       "top       engineer\n",
       "freq          1221\n",
       "Name: profession1, dtype: object"
      ]
     },
     "execution_count": 15,
     "metadata": {},
     "output_type": "execute_result"
    }
   ],
   "source": [
    "df['profession1'][df['education1']==1].describe()"
   ]
  },
  {
   "cell_type": "code",
   "execution_count": 16,
   "metadata": {},
   "outputs": [
    {
     "data": {
      "text/plain": [
       "count         8018\n",
       "unique          11\n",
       "top       engineer\n",
       "freq          1920\n",
       "Name: profession1, dtype: object"
      ]
     },
     "execution_count": 16,
     "metadata": {},
     "output_type": "execute_result"
    }
   ],
   "source": [
    "df['profession1'][df['education1']==2].describe()"
   ]
  },
  {
   "cell_type": "code",
   "execution_count": 17,
   "metadata": {},
   "outputs": [
    {
     "data": {
      "text/plain": [
       "count        4321\n",
       "unique         11\n",
       "top       manager\n",
       "freq         2550\n",
       "Name: profession1, dtype: object"
      ]
     },
     "execution_count": 17,
     "metadata": {},
     "output_type": "execute_result"
    }
   ],
   "source": [
    "df['profession1'][df['education1']==3].describe()"
   ]
  },
  {
   "cell_type": "code",
   "execution_count": 18,
   "metadata": {},
   "outputs": [],
   "source": [
    "df.loc[df['education1']==1 , 'profession1'] = df['profession1'][df['education1']==1].fillna(value=\"engineer\")\n",
    "df.loc[df['education1']==2 , 'profession1'] = df['profession1'][df['education1']==2].fillna(value=\"engineer\")\n",
    "df.loc[df['education1']==3 , 'profession1'] = df['profession1'][df['education1']==3].fillna(value=\"manager\")"
   ]
  },
  {
   "cell_type": "code",
   "execution_count": 19,
   "metadata": {},
   "outputs": [
    {
     "data": {
      "text/plain": [
       "engineer         3279\n",
       "manager          3010\n",
       "scientist        2459\n",
       "technician       1668\n",
       "teacher          1395\n",
       "accountant        773\n",
       "retired           499\n",
       "student           483\n",
       "self-employed     421\n",
       "architect         407\n",
       "unemployed        300\n",
       "Name: profession1, dtype: int64"
      ]
     },
     "execution_count": 19,
     "metadata": {},
     "output_type": "execute_result"
    }
   ],
   "source": [
    "df['profession1'].value_counts()"
   ]
  },
  {
   "cell_type": "code",
   "execution_count": 20,
   "metadata": {
    "scrolled": true
   },
   "outputs": [],
   "source": [
    "df['profession1']=df['profession1'].replace(['engineer','manager','scientist','technician','teacher','accountant','student','retired','self-employed','architect','unemployed'],[10,9,8,7,6,5,4,3,2,1,0])"
   ]
  },
  {
   "cell_type": "code",
   "execution_count": 21,
   "metadata": {},
   "outputs": [
    {
     "data": {
      "text/plain": [
       "10    3279\n",
       "9     3010\n",
       "8     2459\n",
       "7     1668\n",
       "6     1395\n",
       "5      773\n",
       "3      499\n",
       "4      483\n",
       "2      421\n",
       "1      407\n",
       "0      300\n",
       "Name: profession1, dtype: int64"
      ]
     },
     "execution_count": 21,
     "metadata": {},
     "output_type": "execute_result"
    }
   ],
   "source": [
    "df['profession1'].value_counts()"
   ]
  },
  {
   "cell_type": "markdown",
   "metadata": {},
   "source": [
    "### device - communication type"
   ]
  },
  {
   "cell_type": "code",
   "execution_count": 22,
   "metadata": {},
   "outputs": [
    {
     "data": {
      "text/plain": [
       "cellular     9567\n",
       "unknown      4149\n",
       "telephone     978\n",
       "Name: device, dtype: int64"
      ]
     },
     "execution_count": 22,
     "metadata": {},
     "output_type": "execute_result"
    }
   ],
   "source": [
    "df['device'].value_counts()"
   ]
  },
  {
   "cell_type": "markdown",
   "metadata": {},
   "source": [
    "we saw in the train data that mostly subscribed are from the cellular"
   ]
  },
  {
   "cell_type": "code",
   "execution_count": 23,
   "metadata": {},
   "outputs": [],
   "source": [
    "df[\"device1\"] = df[\"device\"].replace('unknown', 'cellular')"
   ]
  },
  {
   "cell_type": "markdown",
   "metadata": {},
   "source": [
    "* we'll define device as :  cellular = 1 telephone = 0 "
   ]
  },
  {
   "cell_type": "code",
   "execution_count": 24,
   "metadata": {},
   "outputs": [],
   "source": [
    "df[\"device1\"] = df[\"device1\"].replace([\"cellular\",\"telephone\"],[1,0])"
   ]
  },
  {
   "cell_type": "markdown",
   "metadata": {},
   "source": [
    "### p_outcome -  the outcome of the previous campaigns"
   ]
  },
  {
   "cell_type": "code",
   "execution_count": 25,
   "metadata": {},
   "outputs": [
    {
     "data": {
      "text/plain": [
       "unknown    12016\n",
       "failure     1571\n",
       "other        613\n",
       "success      494\n",
       "Name: p_outcome, dtype: int64"
      ]
     },
     "execution_count": 25,
     "metadata": {},
     "output_type": "execute_result"
    }
   ],
   "source": [
    "df['p_outcome'].value_counts()"
   ]
  },
  {
   "cell_type": "code",
   "execution_count": 26,
   "metadata": {},
   "outputs": [],
   "source": [
    "df[\"p_outcome\"] = df[\"p_outcome\"].replace('other', 'unknown')"
   ]
  },
  {
   "cell_type": "code",
   "execution_count": 27,
   "metadata": {},
   "outputs": [],
   "source": [
    "df[\"p_outcome\"] = df[\"p_outcome\"].replace('unknown', -1)\n",
    "df[\"p_outcome\"] = df[\"p_outcome\"].replace('failure', 0)\n",
    "df[\"p_outcome\"] = df[\"p_outcome\"].replace('success', 1)"
   ]
  },
  {
   "cell_type": "code",
   "execution_count": 28,
   "metadata": {},
   "outputs": [
    {
     "data": {
      "text/plain": [
       "-1    12629\n",
       " 0     1571\n",
       " 1      494\n",
       "Name: p_outcome, dtype: int64"
      ]
     },
     "execution_count": 28,
     "metadata": {},
     "output_type": "execute_result"
    }
   ],
   "source": [
    "df['p_outcome'].value_counts()"
   ]
  },
  {
   "cell_type": "markdown",
   "metadata": {},
   "source": [
    "### p_days - number of days since the last contact in a previous campaigns"
   ]
  },
  {
   "cell_type": "code",
   "execution_count": 29,
   "metadata": {},
   "outputs": [
    {
     "data": {
      "text/plain": [
       "-1      12014\n",
       " 182       63\n",
       " 183       49\n",
       " 181       46\n",
       " 91        40\n",
       "        ...  \n",
       " 651        1\n",
       " 579        1\n",
       " 417        1\n",
       " 449        1\n",
       " 535        1\n",
       "Name: p_days, Length: 422, dtype: int64"
      ]
     },
     "execution_count": 29,
     "metadata": {},
     "output_type": "execute_result"
    }
   ],
   "source": [
    "df['p_days'].value_counts()"
   ]
  },
  {
   "cell_type": "code",
   "execution_count": 30,
   "metadata": {},
   "outputs": [
    {
     "data": {
      "text/plain": [
       "<seaborn.axisgrid.FacetGrid at 0x2333b3d7b50>"
      ]
     },
     "execution_count": 30,
     "metadata": {},
     "output_type": "execute_result"
    },
    {
     "data": {
      "image/png": "[encoded data removed]",
      "text/plain": [
       "<Figure size 360x360 with 1 Axes>"
      ]
     },
     "metadata": {},
     "output_type": "display_data"
    }
   ],
   "source": [
    "sns.displot(df['p_days'], bins=30, kde=True, color='skyblue')"
   ]
  },
  {
   "cell_type": "markdown",
   "metadata": {},
   "source": [
    "the data in p_days goes as in train, we'll replace to binary values "
   ]
  },
  {
   "cell_type": "code",
   "execution_count": 31,
   "metadata": {},
   "outputs": [],
   "source": [
    "df[\"conntacted_before\"] = df[\"p_days\"].replace(-1, 0)\n",
    "df[\"conntacted_before\"] = df[\"conntacted_before\"].apply(lambda x: 1 if x >= 1  else  0)"
   ]
  },
  {
   "cell_type": "code",
   "execution_count": 32,
   "metadata": {},
   "outputs": [
    {
     "data": {
      "text/plain": [
       "0    12014\n",
       "1     2680\n",
       "Name: conntacted_before, dtype: int64"
      ]
     },
     "execution_count": 32,
     "metadata": {},
     "output_type": "execute_result"
    }
   ],
   "source": [
    "df['conntacted_before'].value_counts()"
   ]
  },
  {
   "cell_type": "markdown",
   "metadata": {},
   "source": [
    "#### conntacted_before and n_p_contact :"
   ]
  },
  {
   "cell_type": "code",
   "execution_count": 33,
   "metadata": {},
   "outputs": [
    {
     "data": {
      "text/plain": [
       "0     12014\n",
       "1       891\n",
       "2       713\n",
       "3       354\n",
       "4       221\n",
       "5       150\n",
       "6        83\n",
       "7        75\n",
       "8        46\n",
       "10       28\n",
       "9        23\n",
       "11       20\n",
       "13       16\n",
       "12       16\n",
       "14        7\n",
       "15        7\n",
       "22        4\n",
       "16        4\n",
       "19        3\n",
       "17        3\n",
       "30        2\n",
       "24        2\n",
       "18        2\n",
       "37        2\n",
       "32        1\n",
       "23        1\n",
       "26        1\n",
       "20        1\n",
       "21        1\n",
       "29        1\n",
       "38        1\n",
       "35        1\n",
       "Name: n_p_contact, dtype: int64"
      ]
     },
     "execution_count": 33,
     "metadata": {},
     "output_type": "execute_result"
    }
   ],
   "source": [
    "df['n_p_contact'].value_counts()"
   ]
  },
  {
   "cell_type": "markdown",
   "metadata": {},
   "source": [
    "no inconsistance here also "
   ]
  },
  {
   "cell_type": "markdown",
   "metadata": {},
   "source": [
    "### n_child "
   ]
  },
  {
   "cell_type": "code",
   "execution_count": 34,
   "metadata": {},
   "outputs": [
    {
     "data": {
      "text/plain": [
       "unknown      9732\n",
       "0            1450\n",
       "1            1425\n",
       "3 or more    1386\n",
       "2             701\n",
       "Name: n_child, dtype: int64"
      ]
     },
     "execution_count": 34,
     "metadata": {},
     "output_type": "execute_result"
    }
   ],
   "source": [
    "df['n_child'].value_counts()"
   ]
  },
  {
   "cell_type": "code",
   "execution_count": 35,
   "metadata": {},
   "outputs": [],
   "source": [
    "df['n_child1'] = df['n_child']"
   ]
  },
  {
   "cell_type": "code",
   "execution_count": 36,
   "metadata": {},
   "outputs": [],
   "source": [
    "df['n_child1'] = df['n_child1'].replace('unknown' , -1)\n",
    "df['n_child1'] = df['n_child1'].replace('0',0.0)\n",
    "df['n_child1'] = df['n_child1'].replace('1',1.0)\n",
    "df['n_child1'] = df['n_child1'].replace('2',2.0)\n",
    "df['n_child1'] = df['n_child1'].replace('3 or more',3.0)"
   ]
  },
  {
   "cell_type": "code",
   "execution_count": 37,
   "metadata": {},
   "outputs": [
    {
     "data": {
      "text/plain": [
       "-1.0    9732\n",
       " 0.0    1450\n",
       " 1.0    1425\n",
       " 3.0    1386\n",
       " 2.0     701\n",
       "Name: n_child1, dtype: int64"
      ]
     },
     "execution_count": 37,
     "metadata": {},
     "output_type": "execute_result"
    }
   ],
   "source": [
    "df['n_child1'].value_counts()"
   ]
  },
  {
   "cell_type": "markdown",
   "metadata": {},
   "source": [
    "### Discretization"
   ]
  },
  {
   "cell_type": "markdown",
   "metadata": {},
   "source": [
    " we we'll do it on l_call_duration :very long call, long call,  very short call, short call and averege call"
   ]
  },
  {
   "cell_type": "code",
   "execution_count": 38,
   "metadata": {},
   "outputs": [
    {
     "data": {
      "text/plain": [
       "66.0"
      ]
     },
     "execution_count": 38,
     "metadata": {},
     "output_type": "execute_result"
    }
   ],
   "source": [
    "C = df[\"l_call_duration\"].median()\n",
    "N = 5\n",
    "W = np.round((C*2)/N)\n",
    "W"
   ]
  },
  {
   "cell_type": "code",
   "execution_count": 39,
   "metadata": {},
   "outputs": [],
   "source": [
    "df.loc[ df['l_call_duration'] <= W, 'call_bin'] = 0\n",
    "df.loc[(df['l_call_duration'] > W) & (df['l_call_duration'] <= 2*W), 'call_bin'] = 1\n",
    "df.loc[(df['l_call_duration'] > 2*W) & (df['l_call_duration'] <= 3*W), 'call_bin'] = 2\n",
    "df.loc[(df['l_call_duration'] > 3*W) & (df['l_call_duration'] <= 4*W), 'call_bin'] = 3\n",
    "df.loc[ df['l_call_duration'] > 4*W, 'call_bin'] = 4"
   ]
  },
  {
   "cell_type": "code",
   "execution_count": 40,
   "metadata": {},
   "outputs": [
    {
     "data": {
      "text/plain": [
       "4.0    4275\n",
       "1.0    3687\n",
       "2.0    2888\n",
       "0.0    2021\n",
       "3.0    1823\n",
       "Name: call_bin, dtype: int64"
      ]
     },
     "execution_count": 40,
     "metadata": {},
     "output_type": "execute_result"
    }
   ],
   "source": [
    "df['call_bin'].value_counts()"
   ]
  },
  {
   "cell_type": "markdown",
   "metadata": {},
   "source": [
    "### Normalization"
   ]
  },
  {
   "cell_type": "markdown",
   "metadata": {},
   "source": [
    "age  and account balance in Z-score normalization : Change the data to be with 0 mean and variance 1 "
   ]
  },
  {
   "cell_type": "code",
   "execution_count": 41,
   "metadata": {},
   "outputs": [
    {
     "name": "stdout",
     "output_type": "stream",
     "text": [
      "0   -0.380927\n",
      "1    0.462173\n",
      "2   -1.130349\n",
      "3    0.462173\n",
      "4   -0.942993\n",
      "Name: age_norm, dtype: float64\n"
     ]
    },
    {
     "data": {
      "text/plain": [
       "<seaborn.axisgrid.FacetGrid at 0x2333b736bb0>"
      ]
     },
     "execution_count": 41,
     "metadata": {},
     "output_type": "execute_result"
    },
    {
     "data": {
      "image/png": "[encoded data removed]",
      "text/plain": [
       "<Figure size 360x360 with 1 Axes>"
      ]
     },
     "metadata": {},
     "output_type": "display_data"
    },
    {
     "data": {
      "image/png": "[encoded data removed]",
      "text/plain": [
       "<Figure size 360x360 with 1 Axes>"
      ]
     },
     "metadata": {},
     "output_type": "display_data"
    }
   ],
   "source": [
    "z_scaler = StandardScaler()\n",
    "z_scaler.fit(pd.DataFrame(df['age']))\n",
    "df['age_norm'] = z_scaler.transform(pd.DataFrame(df['age']))\n",
    "print(df['age_norm'].head())\n",
    "sns.displot(df['age_norm'], bins=20, kde=True, color='skyblue')\n",
    "sns.displot(df['age'], bins=20, kde=True, color='skyblue')"
   ]
  },
  {
   "cell_type": "code",
   "execution_count": 42,
   "metadata": {},
   "outputs": [
    {
     "name": "stdout",
     "output_type": "stream",
     "text": [
      "0   -0.460403\n",
      "1   -0.540209\n",
      "2    0.224331\n",
      "3   -0.230458\n",
      "4   -0.529641\n",
      "Name: account_norm, dtype: float64\n"
     ]
    },
    {
     "data": {
      "text/plain": [
       "<seaborn.axisgrid.FacetGrid at 0x2333b8b4190>"
      ]
     },
     "execution_count": 42,
     "metadata": {},
     "output_type": "execute_result"
    },
    {
     "data": {
      "image/png": "[encoded data removed]",
      "text/plain": [
       "<Figure size 360x360 with 1 Axes>"
      ]
     },
     "metadata": {},
     "output_type": "display_data"
    },
    {
     "data": {
      "image/png": "[encoded data removed]",
      "text/plain": [
       "<Figure size 360x360 with 1 Axes>"
      ]
     },
     "metadata": {},
     "output_type": "display_data"
    }
   ],
   "source": [
    "z_scaler = StandardScaler()\n",
    "z_scaler.fit(pd.DataFrame(df['account_balance']))\n",
    "df['account_norm'] = z_scaler.transform(pd.DataFrame(df['account_balance']))\n",
    "print(df['account_norm'].head())\n",
    "sns.displot(df['account_norm'], bins=20, kde=True, color='skyblue')\n",
    "sns.displot(df['account_balance'], bins=20, kde=True, color='skyblue')"
   ]
  },
  {
   "cell_type": "markdown",
   "metadata": {},
   "source": [
    "### dropping data : "
   ]
  },
  {
   "cell_type": "code",
   "execution_count": 43,
   "metadata": {},
   "outputs": [
    {
     "data": {
      "text/plain": [
       "phone call    14694\n",
       "Name: campaign_type, dtype: int64"
      ]
     },
     "execution_count": 43,
     "metadata": {},
     "output_type": "execute_result"
    }
   ],
   "source": [
    "df['campaign_type'].value_counts()"
   ]
  },
  {
   "cell_type": "code",
   "execution_count": 44,
   "metadata": {},
   "outputs": [],
   "source": [
    "df = df.drop(['campaign_type','positive'],axis=1)"
   ]
  },
  {
   "cell_type": "code",
   "execution_count": 45,
   "metadata": {},
   "outputs": [],
   "source": [
    "df['loan1']=df['loan'].replace([True,False],[1,0])\n",
    "df['mortgage1']=df['mortgage'].replace([True,False],[1,0])\n",
    "df['credit1']=df['credit'].replace([True,False],[1,0])"
   ]
  },
  {
   "cell_type": "markdown",
   "metadata": {},
   "source": [
    "* change status to numeric value : 1 - single , 2 - married , 3 - divorced "
   ]
  },
  {
   "cell_type": "code",
   "execution_count": 46,
   "metadata": {},
   "outputs": [],
   "source": [
    "df['status'] = df['status'].replace([\"single\",\"married\",\"divorced\"],[1,2,3])"
   ]
  },
  {
   "cell_type": "code",
   "execution_count": 47,
   "metadata": {},
   "outputs": [],
   "source": [
    "df = df.drop(['loan'],axis=1)\n",
    "df = df.drop(['mortgage'],axis=1)\n",
    "df = df.drop(['credit'],axis=1)\n",
    "df = df.drop(['education'],axis=1)\n",
    "df = df.drop(['n_child'],axis=1)\n",
    "df = df.drop(['p_days'],axis=1)\n",
    "df = df.drop(['l_call_duration'],axis=1)\n",
    "df = df.drop(['device'],axis=1)"
   ]
  },
  {
   "cell_type": "code",
   "execution_count": 48,
   "metadata": {},
   "outputs": [],
   "source": [
    "df = df.drop(['profession','account_balance','l_date','age'],axis=1)"
   ]
  },
  {
   "cell_type": "code",
   "execution_count": 49,
   "metadata": {},
   "outputs": [],
   "source": [
    "df.to_csv('marketing_campaigns_test_after_PRE.csv')"
   ]
  },
  {
   "cell_type": "code",
   "execution_count": 50,
   "metadata": {},
   "outputs": [
    {
     "name": "stdout",
     "output_type": "stream",
     "text": [
      "<class 'pandas.core.frame.DataFrame'>\n",
      "RangeIndex: 14694 entries, 0 to 14693\n",
      "Data columns (total 15 columns):\n",
      " #   Column             Non-Null Count  Dtype  \n",
      "---  ------             --------------  -----  \n",
      " 0   status             14694 non-null  int64  \n",
      " 1   n_contact          14694 non-null  int64  \n",
      " 2   p_outcome          14694 non-null  int64  \n",
      " 3   n_p_contact        14694 non-null  int64  \n",
      " 4   education1         14694 non-null  float64\n",
      " 5   profession1        14694 non-null  int64  \n",
      " 6   device1            14694 non-null  int64  \n",
      " 7   conntacted_before  14694 non-null  int64  \n",
      " 8   n_child1           14694 non-null  float64\n",
      " 9   call_bin           14694 non-null  float64\n",
      " 10  age_norm           14694 non-null  float64\n",
      " 11  account_norm       14694 non-null  float64\n",
      " 12  loan1              14694 non-null  int64  \n",
      " 13  mortgage1          14694 non-null  int64  \n",
      " 14  credit1            14694 non-null  int64  \n",
      "dtypes: float64(5), int64(10)\n",
      "memory usage: 1.7 MB\n"
     ]
    }
   ],
   "source": [
    "df.info()"
   ]
  },
  {
   "cell_type": "code",
   "execution_count": 51,
   "metadata": {},
   "outputs": [
    {
     "data": {
      "text/html": [
       "<div>\n",
       "<style scoped>\n",
       "    .dataframe tbody tr th:only-of-type {\n",
       "        vertical-align: middle;\n",
       "    }\n",
       "\n",
       "    .dataframe tbody tr th {\n",
       "        vertical-align: top;\n",
       "    }\n",
       "\n",
       "    .dataframe thead th {\n",
       "        text-align: right;\n",
       "    }\n",
       "</style>\n",
       "<table border=\"1\" class=\"dataframe\">\n",
       "  <thead>\n",
       "    <tr style=\"text-align: right;\">\n",
       "      <th></th>\n",
       "      <th>status</th>\n",
       "      <th>n_contact</th>\n",
       "      <th>p_outcome</th>\n",
       "      <th>n_p_contact</th>\n",
       "      <th>education1</th>\n",
       "      <th>profession1</th>\n",
       "      <th>device1</th>\n",
       "      <th>conntacted_before</th>\n",
       "      <th>n_child1</th>\n",
       "      <th>call_bin</th>\n",
       "      <th>age_norm</th>\n",
       "      <th>account_norm</th>\n",
       "      <th>loan1</th>\n",
       "      <th>mortgage1</th>\n",
       "      <th>credit1</th>\n",
       "    </tr>\n",
       "  </thead>\n",
       "  <tbody>\n",
       "    <tr>\n",
       "      <th>0</th>\n",
       "      <td>3</td>\n",
       "      <td>2</td>\n",
       "      <td>-1</td>\n",
       "      <td>0</td>\n",
       "      <td>2.0</td>\n",
       "      <td>8</td>\n",
       "      <td>1</td>\n",
       "      <td>0</td>\n",
       "      <td>-1.0</td>\n",
       "      <td>0.0</td>\n",
       "      <td>-0.380927</td>\n",
       "      <td>-0.460403</td>\n",
       "      <td>0</td>\n",
       "      <td>1</td>\n",
       "      <td>0</td>\n",
       "    </tr>\n",
       "    <tr>\n",
       "      <th>1</th>\n",
       "      <td>2</td>\n",
       "      <td>1</td>\n",
       "      <td>-1</td>\n",
       "      <td>0</td>\n",
       "      <td>1.0</td>\n",
       "      <td>9</td>\n",
       "      <td>1</td>\n",
       "      <td>0</td>\n",
       "      <td>-1.0</td>\n",
       "      <td>1.0</td>\n",
       "      <td>0.462173</td>\n",
       "      <td>-0.540209</td>\n",
       "      <td>0</td>\n",
       "      <td>1</td>\n",
       "      <td>0</td>\n",
       "    </tr>\n",
       "    <tr>\n",
       "      <th>2</th>\n",
       "      <td>1</td>\n",
       "      <td>3</td>\n",
       "      <td>-1</td>\n",
       "      <td>0</td>\n",
       "      <td>3.0</td>\n",
       "      <td>9</td>\n",
       "      <td>1</td>\n",
       "      <td>0</td>\n",
       "      <td>-1.0</td>\n",
       "      <td>0.0</td>\n",
       "      <td>-1.130349</td>\n",
       "      <td>0.224331</td>\n",
       "      <td>0</td>\n",
       "      <td>0</td>\n",
       "      <td>0</td>\n",
       "    </tr>\n",
       "    <tr>\n",
       "      <th>3</th>\n",
       "      <td>2</td>\n",
       "      <td>1</td>\n",
       "      <td>-1</td>\n",
       "      <td>0</td>\n",
       "      <td>2.0</td>\n",
       "      <td>10</td>\n",
       "      <td>1</td>\n",
       "      <td>0</td>\n",
       "      <td>-1.0</td>\n",
       "      <td>4.0</td>\n",
       "      <td>0.462173</td>\n",
       "      <td>-0.230458</td>\n",
       "      <td>0</td>\n",
       "      <td>0</td>\n",
       "      <td>0</td>\n",
       "    </tr>\n",
       "    <tr>\n",
       "      <th>4</th>\n",
       "      <td>2</td>\n",
       "      <td>2</td>\n",
       "      <td>-1</td>\n",
       "      <td>0</td>\n",
       "      <td>3.0</td>\n",
       "      <td>9</td>\n",
       "      <td>1</td>\n",
       "      <td>0</td>\n",
       "      <td>-1.0</td>\n",
       "      <td>4.0</td>\n",
       "      <td>-0.942993</td>\n",
       "      <td>-0.529641</td>\n",
       "      <td>0</td>\n",
       "      <td>1</td>\n",
       "      <td>0</td>\n",
       "    </tr>\n",
       "  </tbody>\n",
       "</table>\n",
       "</div>"
      ],
      "text/plain": [
       "   status  n_contact  p_outcome  n_p_contact  education1  profession1  \\\n",
       "0       3          2         -1            0         2.0            8   \n",
       "1       2          1         -1            0         1.0            9   \n",
       "2       1          3         -1            0         3.0            9   \n",
       "3       2          1         -1            0         2.0           10   \n",
       "4       2          2         -1            0         3.0            9   \n",
       "\n",
       "   device1  conntacted_before  n_child1  call_bin  age_norm  account_norm  \\\n",
       "0        1                  0      -1.0       0.0 -0.380927     -0.460403   \n",
       "1        1                  0      -1.0       1.0  0.462173     -0.540209   \n",
       "2        1                  0      -1.0       0.0 -1.130349      0.224331   \n",
       "3        1                  0      -1.0       4.0  0.462173     -0.230458   \n",
       "4        1                  0      -1.0       4.0 -0.942993     -0.529641   \n",
       "\n",
       "   loan1  mortgage1  credit1  \n",
       "0      0          1        0  \n",
       "1      0          1        0  \n",
       "2      0          0        0  \n",
       "3      0          0        0  \n",
       "4      0          1        0  "
      ]
     },
     "execution_count": 51,
     "metadata": {},
     "output_type": "execute_result"
    }
   ],
   "source": [
    "df.head()"
   ]
  }
 ],
 "metadata": {
  "kernelspec": {
   "display_name": "Python 3",
   "language": "python",
   "name": "python3"
  },
  "language_info": {
   "codemirror_mode": {
    "name": "ipython",
    "version": 3
   },
   "file_extension": ".py",
   "mimetype": "text/x-python",
   "name": "python",
   "nbconvert_exporter": "python",
   "pygments_lexer": "ipython3",
   "version": "3.8.5"
  }
 },
 "nbformat": 4,
 "nbformat_minor": 4
}
